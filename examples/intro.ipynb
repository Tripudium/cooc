{
 "cells": [
  {
   "cell_type": "code",
   "execution_count": 2,
   "metadata": {},
   "outputs": [],
   "source": [
    "%load_ext autoreload\n",
    "%autoreload 2"
   ]
  },
  {
   "cell_type": "code",
   "execution_count": 3,
   "metadata": {},
   "outputs": [],
   "source": [
    "import matplotlib.pyplot as plt"
   ]
  },
  {
   "cell_type": "code",
   "execution_count": 4,
   "metadata": {},
   "outputs": [],
   "source": [
    "from tradedecomp.hdb import get_dataset"
   ]
  },
  {
   "cell_type": "markdown",
   "metadata": {
    "vscode": {
     "languageId": "plaintext"
    }
   },
   "source": [
    "# <font color=\"grey\">Trade decomposition</font>"
   ]
  },
  {
   "cell_type": "markdown",
   "metadata": {},
   "source": [
    "### <font color=\"grey\">  Table of Contents</font>\n",
    "\n",
    "1. #### <a href='#chapter1'>Data</a>\n",
    "2. #### <a href='#chapter2'>Trade decomposition</a>"
   ]
  },
  {
   "cell_type": "markdown",
   "metadata": {},
   "source": [
    "###  <a id='chapter1'> <font color=\"grey\">1. Data </font></a>"
   ]
  },
  {
   "cell_type": "markdown",
   "metadata": {},
   "source": [
    "Data is currently available for 5 products, namely perpetual futures contracts for the following pairs: BTC-USDT, ETH-USDT, SOL-USDT, DOGE-USDT and LINK-USDT. The details on these products are not important for the time being, they just represent time series. Data is available for trades and quotes (level 1 limit order book) for a period from June to end of August. For each month, the data begins at 00:01 of the first day and ends at 23:50.\n",
    "\n",
    "The timestamps are given in nanosecond resolution as Unix timestamps, but the granularity of the data is not that fine. A simple dataloader and some helper function to convert Python datetime objects or strings of the form '240802.1450' into timestamps are provided. The 'book' data contains best bid and ask prices with corresponding volumes. The 'trade' data contains trades, with a signed quantity representing direction. There is also an associated trade id in order to identify individual trades.\n",
    "\n",
    "The book data is mainly to determine the price movements and for potential backtests. In the original dataset there are more timestamps (depending on when the data was sent or received) but I don't think this matters at the moment. One could try to align what happens in the trades with what happens in the book dataset.\n",
    "\n",
    "We make heavy use of [polars](https://pola.rs/), for the simple reason of performance. If one is not used to it, the learning curve can be steep but it will make things quicker in the long run. We also work with polars extensions to easily add features to the data."
   ]
  },
  {
   "cell_type": "code",
   "execution_count": 5,
   "metadata": {},
   "outputs": [],
   "source": [
    "dl = get_dataset(\"trnk\")"
   ]
  },
  {
   "cell_type": "code",
   "execution_count": 6,
   "metadata": {},
   "outputs": [],
   "source": [
    "RCS = [f\"{coin}USDT\" for coin in [\"BTC\", \"ETH\", \"SOL\", \"DOGE\", \"LINK\"]]\n",
    "TYPE = ['book', 'trade']\n",
    "MONTHS = ['06', '07', '08']\n",
    "TIMES = ['240720.0001', '240730.2350']"
   ]
  },
  {
   "cell_type": "code",
   "execution_count": 10,
   "metadata": {},
   "outputs": [],
   "source": [
    "df = dl.load_book(RCS[0:2], TIMES, lazy=True)\n",
    "# Add human readable timestamp and mid prices\n",
    "df = df._dt.add_datetime('ts')._feat.add_mid(products=RCS[0:2])"
   ]
  },
  {
   "cell_type": "code",
   "execution_count": 11,
   "metadata": {},
   "outputs": [
    {
     "data": {
      "text/html": [
       "<div><style>\n",
       ".dataframe > thead > tr,\n",
       ".dataframe > tbody > tr {\n",
       "  text-align: right;\n",
       "  white-space: pre-wrap;\n",
       "}\n",
       "</style>\n",
       "<small>shape: (5, 12)</small><table border=\"1\" class=\"dataframe\"><thead><tr><th>ts</th><th>prc__s0_BTCUSDT</th><th>prc__s1_BTCUSDT</th><th>vol__s0_BTCUSDT</th><th>vol__s1_BTCUSDT</th><th>prc__s0_ETHUSDT</th><th>prc__s1_ETHUSDT</th><th>vol__s0_ETHUSDT</th><th>vol__s1_ETHUSDT</th><th>dts</th><th>mid_BTCUSDT</th><th>mid_ETHUSDT</th></tr><tr><td>u64</td><td>f64</td><td>f64</td><td>f64</td><td>f64</td><td>f64</td><td>f64</td><td>f64</td><td>f64</td><td>datetime[ns]</td><td>f64</td><td>f64</td></tr></thead><tbody><tr><td>1721433660056500000</td><td>66689.9</td><td>66690.0</td><td>7.331</td><td>10.59</td><td>3503.63</td><td>3503.64</td><td>12.785</td><td>82.869</td><td>2024-07-20 00:01:00.056500</td><td>66689.95</td><td>3503.635</td></tr><tr><td>1721433660058500000</td><td>66689.9</td><td>66690.0</td><td>7.331</td><td>10.531</td><td>3503.63</td><td>3503.64</td><td>12.785</td><td>82.869</td><td>2024-07-20 00:01:00.058500</td><td>66689.95</td><td>3503.635</td></tr><tr><td>1721433660063500000</td><td>66689.9</td><td>66690.0</td><td>7.329</td><td>10.531</td><td>3503.63</td><td>3503.64</td><td>0.332</td><td>82.869</td><td>2024-07-20 00:01:00.063500</td><td>66689.95</td><td>3503.635</td></tr><tr><td>1721433660063500000</td><td>66689.9</td><td>66690.0</td><td>7.329</td><td>10.531</td><td>3503.63</td><td>3503.64</td><td>0.332</td><td>82.869</td><td>2024-07-20 00:01:00.063500</td><td>66689.95</td><td>3503.635</td></tr><tr><td>1721433660066500000</td><td>66689.9</td><td>66690.0</td><td>6.079</td><td>10.531</td><td>3503.63</td><td>3503.64</td><td>0.332</td><td>82.883</td><td>2024-07-20 00:01:00.066500</td><td>66689.95</td><td>3503.635</td></tr></tbody></table></div>"
      ],
      "text/plain": [
       "shape: (5, 12)\n",
       "┌───────────┬───────────┬───────────┬───────────┬───┬───────────┬───────────┬───────────┬──────────┐\n",
       "│ ts        ┆ prc__s0_B ┆ prc__s1_B ┆ vol__s0_B ┆ … ┆ vol__s1_E ┆ dts       ┆ mid_BTCUS ┆ mid_ETHU │\n",
       "│ ---       ┆ TCUSDT    ┆ TCUSDT    ┆ TCUSDT    ┆   ┆ THUSDT    ┆ ---       ┆ DT        ┆ SDT      │\n",
       "│ u64       ┆ ---       ┆ ---       ┆ ---       ┆   ┆ ---       ┆ datetime[ ┆ ---       ┆ ---      │\n",
       "│           ┆ f64       ┆ f64       ┆ f64       ┆   ┆ f64       ┆ ns]       ┆ f64       ┆ f64      │\n",
       "╞═══════════╪═══════════╪═══════════╪═══════════╪═══╪═══════════╪═══════════╪═══════════╪══════════╡\n",
       "│ 172143366 ┆ 66689.9   ┆ 66690.0   ┆ 7.331     ┆ … ┆ 82.869    ┆ 2024-07-2 ┆ 66689.95  ┆ 3503.635 │\n",
       "│ 005650000 ┆           ┆           ┆           ┆   ┆           ┆ 0 00:01:0 ┆           ┆          │\n",
       "│ 0         ┆           ┆           ┆           ┆   ┆           ┆ 0.056500  ┆           ┆          │\n",
       "│ 172143366 ┆ 66689.9   ┆ 66690.0   ┆ 7.331     ┆ … ┆ 82.869    ┆ 2024-07-2 ┆ 66689.95  ┆ 3503.635 │\n",
       "│ 005850000 ┆           ┆           ┆           ┆   ┆           ┆ 0 00:01:0 ┆           ┆          │\n",
       "│ 0         ┆           ┆           ┆           ┆   ┆           ┆ 0.058500  ┆           ┆          │\n",
       "│ 172143366 ┆ 66689.9   ┆ 66690.0   ┆ 7.329     ┆ … ┆ 82.869    ┆ 2024-07-2 ┆ 66689.95  ┆ 3503.635 │\n",
       "│ 006350000 ┆           ┆           ┆           ┆   ┆           ┆ 0 00:01:0 ┆           ┆          │\n",
       "│ 0         ┆           ┆           ┆           ┆   ┆           ┆ 0.063500  ┆           ┆          │\n",
       "│ 172143366 ┆ 66689.9   ┆ 66690.0   ┆ 7.329     ┆ … ┆ 82.869    ┆ 2024-07-2 ┆ 66689.95  ┆ 3503.635 │\n",
       "│ 006350000 ┆           ┆           ┆           ┆   ┆           ┆ 0 00:01:0 ┆           ┆          │\n",
       "│ 0         ┆           ┆           ┆           ┆   ┆           ┆ 0.063500  ┆           ┆          │\n",
       "│ 172143366 ┆ 66689.9   ┆ 66690.0   ┆ 6.079     ┆ … ┆ 82.883    ┆ 2024-07-2 ┆ 66689.95  ┆ 3503.635 │\n",
       "│ 006650000 ┆           ┆           ┆           ┆   ┆           ┆ 0 00:01:0 ┆           ┆          │\n",
       "│ 0         ┆           ┆           ┆           ┆   ┆           ┆ 0.066500  ┆           ┆          │\n",
       "└───────────┴───────────┴───────────┴───────────┴───┴───────────┴───────────┴───────────┴──────────┘"
      ]
     },
     "execution_count": 11,
     "metadata": {},
     "output_type": "execute_result"
    }
   ],
   "source": [
    "# This takes some time, not because of the loading but because of the aggregation\n",
    "df = df.collect()\n",
    "df.head()"
   ]
  },
  {
   "cell_type": "code",
   "execution_count": null,
   "metadata": {},
   "outputs": [],
   "source": [
    "plt.plot(df['dts'], df['mid_ETHUSDT'])\n",
    "plt.xlabel('Time')\n",
    "plt.ylabel('Mid price')\n",
    "plt.title('Mid price over time')\n",
    "plt.show()"
   ]
  },
  {
   "cell_type": "code",
   "execution_count": 14,
   "metadata": {},
   "outputs": [],
   "source": [
    "tdf = dl.load_trades(RCS[0:2], TIMES, lazy=True)\n",
    "# By default, the timestamp column is named 'ts'\n",
    "tdf = tdf._trade.agg_trades()._trade.add_side()._dt.add_datetime()"
   ]
  },
  {
   "cell_type": "code",
   "execution_count": null,
   "metadata": {},
   "outputs": [],
   "source": [
    "# Just to check that it works\n",
    "tdf.collect().head()"
   ]
  },
  {
   "cell_type": "markdown",
   "metadata": {},
   "source": [
    "###  <a id='chapter2'> <font color=\"grey\">2. Trade decomposition </font></a>"
   ]
  },
  {
   "cell_type": "code",
   "execution_count": null,
   "metadata": {},
   "outputs": [],
   "source": []
  },
  {
   "cell_type": "code",
   "execution_count": null,
   "metadata": {},
   "outputs": [],
   "source": []
  }
 ],
 "metadata": {
  "kernelspec": {
   "display_name": ".venv",
   "language": "python",
   "name": "python3"
  },
  "language_info": {
   "codemirror_mode": {
    "name": "ipython",
    "version": 3
   },
   "file_extension": ".py",
   "mimetype": "text/x-python",
   "name": "python",
   "nbconvert_exporter": "python",
   "pygments_lexer": "ipython3",
   "version": "3.12.8"
  }
 },
 "nbformat": 4,
 "nbformat_minor": 2
}
