{
 "cells": [
  {
   "cell_type": "code",
   "execution_count": 1,
   "metadata": {},
   "outputs": [],
   "source": [
    "%load_ext autoreload\n",
    "%autoreload 2"
   ]
  },
  {
   "cell_type": "code",
   "execution_count": 2,
   "metadata": {},
   "outputs": [],
   "source": [
    "import matplotlib.pyplot as plt\n",
    "import polars as pl\n",
    "import sys\n",
    "sys.path.append('../../dspy')"
   ]
  },
  {
   "cell_type": "code",
   "execution_count": 3,
   "metadata": {},
   "outputs": [],
   "source": [
    "#!uv pip install -e ../../dspy"
   ]
  },
  {
   "cell_type": "code",
   "execution_count": 4,
   "metadata": {},
   "outputs": [],
   "source": [
    "from dspy.hdb import get_dataset\n",
    "from cooc.plots import plot_trades\n",
    "from cooc.features import coi\n",
    "from cooc.classify import classify_trades\n"
   ]
  },
  {
   "cell_type": "markdown",
   "metadata": {
    "vscode": {
     "languageId": "plaintext"
    }
   },
   "source": [
    "# <font color=\"grey\">Trade decomposition</font>"
   ]
  },
  {
   "cell_type": "markdown",
   "metadata": {},
   "source": [
    "### <font color=\"grey\">  Table of Contents</font>\n",
    "\n",
    "1. #### <a href='#chapter1'>Data</a>\n",
    "2. #### <a href='#chapter2'>Trade decomposition</a>"
   ]
  },
  {
   "cell_type": "markdown",
   "metadata": {},
   "source": [
    "###  <a id='chapter1'> <font color=\"grey\">1. Data </font></a>"
   ]
  },
  {
   "cell_type": "markdown",
   "metadata": {},
   "source": [
    "Data is currently available for 5 products, namely perpetual futures contracts for the following pairs: BTC-USDT, ETH-USDT, SOL-USDT, DOGE-USDT and LINK-USDT. The details on these products are not important for the time being, they just represent time series. Data is available for trades and quotes (level 1 limit order book) for a period from June to end of August. For each month, the data begins at 00:01 of the first day and ends at 23:50.\n",
    "\n",
    "The timestamps are given in nanosecond resolution as Unix timestamps, but the granularity of the data is not that fine. A simple dataloader and some helper function to convert Python datetime objects or strings of the form '240802.1450' into timestamps are provided. The 'book' data contains best bid and ask prices with corresponding volumes. The 'trade' data contains trades, with a signed quantity representing direction. There is also an associated trade id in order to identify individual trades.\n",
    "\n",
    "The book data is mainly to determine the price movements and for potential backtests. In the original dataset there are more timestamps (depending on when the data was sent or received) but I don't think this matters at the moment. One could try to align what happens in the trades with what happens in the book dataset.\n",
    "\n",
    "We make heavy use of [polars](https://pola.rs/), for the simple reason of performance. If one is not used to it, the learning curve can be steep but it will make things quicker in the long run. We also work with polars extensions to easily add features to the data."
   ]
  },
  {
   "cell_type": "code",
   "execution_count": 7,
   "metadata": {},
   "outputs": [],
   "source": [
    "dl = get_dataset(\"tardis\", root=\"../../dspy/data/tardis/\")"
   ]
  },
  {
   "cell_type": "code",
   "execution_count": 8,
   "metadata": {},
   "outputs": [],
   "source": [
    "RCS = [f\"{coin}USDT\" for coin in [\"BTC\", \"ETH\", \"SOL\", \"DOGE\", \"LINK\"]]\n",
    "TYPE = ['book', 'trade']\n",
    "MONTHS = ['06', '07', '08']\n",
    "TIMES = ['240720.000100', '240725.235000']"
   ]
  },
  {
   "cell_type": "code",
   "execution_count": 9,
   "metadata": {},
   "outputs": [],
   "source": [
    "df = dl.load_book(RCS[0:2], TIMES, lazy=True)\n",
    "# Add human readable timestamp and mid prices\n",
    "df = df.ds.add_datetime('ts').feature.add_mid(products=RCS[0:2])"
   ]
  },
  {
   "cell_type": "code",
   "execution_count": 11,
   "metadata": {},
   "outputs": [
    {
     "data": {
      "text/html": [
       "<div><style>\n",
       ".dataframe > thead > tr,\n",
       ".dataframe > tbody > tr {\n",
       "  text-align: right;\n",
       "  white-space: pre-wrap;\n",
       "}\n",
       "</style>\n",
       "<small>shape: (5, 12)</small><table border=\"1\" class=\"dataframe\"><thead><tr><th>ts</th><th>prc__s0_BTCUSDT</th><th>prc__s1_BTCUSDT</th><th>vol__s0_BTCUSDT</th><th>vol__s1_BTCUSDT</th><th>prc__s0_ETHUSDT</th><th>prc__s1_ETHUSDT</th><th>vol__s0_ETHUSDT</th><th>vol__s1_ETHUSDT</th><th>dts</th><th>mid_BTCUSDT</th><th>mid_ETHUSDT</th></tr><tr><td>u64</td><td>f64</td><td>f64</td><td>f64</td><td>f64</td><td>f64</td><td>f64</td><td>f64</td><td>f64</td><td>datetime[ns]</td><td>f64</td><td>f64</td></tr></thead><tbody><tr><td>1721433660056500000</td><td>66689.9</td><td>66690.0</td><td>7.331</td><td>10.59</td><td>3503.63</td><td>3503.64</td><td>12.785</td><td>82.869</td><td>2024-07-20 00:01:00.056500</td><td>66689.95</td><td>3503.635</td></tr><tr><td>1721433660058500000</td><td>66689.9</td><td>66690.0</td><td>7.331</td><td>10.531</td><td>3503.63</td><td>3503.64</td><td>12.785</td><td>82.869</td><td>2024-07-20 00:01:00.058500</td><td>66689.95</td><td>3503.635</td></tr><tr><td>1721433660063500000</td><td>66689.9</td><td>66690.0</td><td>7.329</td><td>10.531</td><td>3503.63</td><td>3503.64</td><td>0.332</td><td>82.869</td><td>2024-07-20 00:01:00.063500</td><td>66689.95</td><td>3503.635</td></tr><tr><td>1721433660066500000</td><td>66689.9</td><td>66690.0</td><td>6.079</td><td>10.531</td><td>3503.63</td><td>3503.64</td><td>0.332</td><td>82.883</td><td>2024-07-20 00:01:00.066500</td><td>66689.95</td><td>3503.635</td></tr><tr><td>1721433660069500000</td><td>66689.9</td><td>66690.0</td><td>6.079</td><td>10.513</td><td>3503.63</td><td>3503.64</td><td>0.332</td><td>82.883</td><td>2024-07-20 00:01:00.069500</td><td>66689.95</td><td>3503.635</td></tr></tbody></table></div>"
      ],
      "text/plain": [
       "shape: (5, 12)\n",
       "┌───────────┬───────────┬───────────┬───────────┬───┬───────────┬───────────┬───────────┬──────────┐\n",
       "│ ts        ┆ prc__s0_B ┆ prc__s1_B ┆ vol__s0_B ┆ … ┆ vol__s1_E ┆ dts       ┆ mid_BTCUS ┆ mid_ETHU │\n",
       "│ ---       ┆ TCUSDT    ┆ TCUSDT    ┆ TCUSDT    ┆   ┆ THUSDT    ┆ ---       ┆ DT        ┆ SDT      │\n",
       "│ u64       ┆ ---       ┆ ---       ┆ ---       ┆   ┆ ---       ┆ datetime[ ┆ ---       ┆ ---      │\n",
       "│           ┆ f64       ┆ f64       ┆ f64       ┆   ┆ f64       ┆ ns]       ┆ f64       ┆ f64      │\n",
       "╞═══════════╪═══════════╪═══════════╪═══════════╪═══╪═══════════╪═══════════╪═══════════╪══════════╡\n",
       "│ 172143366 ┆ 66689.9   ┆ 66690.0   ┆ 7.331     ┆ … ┆ 82.869    ┆ 2024-07-2 ┆ 66689.95  ┆ 3503.635 │\n",
       "│ 005650000 ┆           ┆           ┆           ┆   ┆           ┆ 0 00:01:0 ┆           ┆          │\n",
       "│ 0         ┆           ┆           ┆           ┆   ┆           ┆ 0.056500  ┆           ┆          │\n",
       "│ 172143366 ┆ 66689.9   ┆ 66690.0   ┆ 7.331     ┆ … ┆ 82.869    ┆ 2024-07-2 ┆ 66689.95  ┆ 3503.635 │\n",
       "│ 005850000 ┆           ┆           ┆           ┆   ┆           ┆ 0 00:01:0 ┆           ┆          │\n",
       "│ 0         ┆           ┆           ┆           ┆   ┆           ┆ 0.058500  ┆           ┆          │\n",
       "│ 172143366 ┆ 66689.9   ┆ 66690.0   ┆ 7.329     ┆ … ┆ 82.869    ┆ 2024-07-2 ┆ 66689.95  ┆ 3503.635 │\n",
       "│ 006350000 ┆           ┆           ┆           ┆   ┆           ┆ 0 00:01:0 ┆           ┆          │\n",
       "│ 0         ┆           ┆           ┆           ┆   ┆           ┆ 0.063500  ┆           ┆          │\n",
       "│ 172143366 ┆ 66689.9   ┆ 66690.0   ┆ 6.079     ┆ … ┆ 82.883    ┆ 2024-07-2 ┆ 66689.95  ┆ 3503.635 │\n",
       "│ 006650000 ┆           ┆           ┆           ┆   ┆           ┆ 0 00:01:0 ┆           ┆          │\n",
       "│ 0         ┆           ┆           ┆           ┆   ┆           ┆ 0.066500  ┆           ┆          │\n",
       "│ 172143366 ┆ 66689.9   ┆ 66690.0   ┆ 6.079     ┆ … ┆ 82.883    ┆ 2024-07-2 ┆ 66689.95  ┆ 3503.635 │\n",
       "│ 006950000 ┆           ┆           ┆           ┆   ┆           ┆ 0 00:01:0 ┆           ┆          │\n",
       "│ 0         ┆           ┆           ┆           ┆   ┆           ┆ 0.069500  ┆           ┆          │\n",
       "└───────────┴───────────┴───────────┴───────────┴───┴───────────┴───────────┴───────────┴──────────┘"
      ]
     },
     "execution_count": 11,
     "metadata": {},
     "output_type": "execute_result"
    }
   ],
   "source": [
    "# This takes some time, not because of the loading but because of the aggregation\n",
    "df = df.collect()\n",
    "df.head()"
   ]
  },
  {
   "cell_type": "code",
   "execution_count": 12,
   "metadata": {},
   "outputs": [
    {
     "data": {
      "image/png": "[encoded data removed]",
      "text/plain": [
       "<Figure size 640x480 with 1 Axes>"
      ]
     },
     "metadata": {},
     "output_type": "display_data"
    }
   ],
   "source": [
    "plt.plot(df['dts'], df['mid_ETHUSDT'])\n",
    "plt.xlabel('Time')\n",
    "plt.ylabel('Mid price')\n",
    "plt.title('Mid price over time')\n",
    "plt.show()"
   ]
  },
  {
   "cell_type": "code",
   "execution_count": 13,
   "metadata": {},
   "outputs": [],
   "source": [
    "tdf = dl.load_trades(RCS[0:2], TIMES, lazy=True)\n",
    "# By default, the timestamp column is named 'ts'\n",
    "tdf = tdf.trade.agg_trades().trade.add_side().ds.add_datetime()"
   ]
  },
  {
   "cell_type": "code",
   "execution_count": 14,
   "metadata": {},
   "outputs": [
    {
     "data": {
      "text/html": [
       "<div><style>\n",
       ".dataframe > thead > tr,\n",
       ".dataframe > tbody > tr {\n",
       "  text-align: right;\n",
       "  white-space: pre-wrap;\n",
       "}\n",
       "</style>\n",
       "<small>shape: (5, 7)</small><table border=\"1\" class=\"dataframe\"><thead><tr><th>ts</th><th>prc</th><th>product</th><th>trade_id</th><th>qty</th><th>side</th><th>dts</th></tr><tr><td>u64</td><td>f64</td><td>str</td><td>u64</td><td>f64</td><td>i32</td><td>datetime[ns]</td></tr></thead><tbody><tr><td>1721433660058500000</td><td>66690.0</td><td>&quot;BTCUSDT&quot;</td><td>5185491785</td><td>0.059</td><td>1</td><td>2024-07-20 00:01:00.058500</td></tr><tr><td>1721433660069500000</td><td>66690.0</td><td>&quot;BTCUSDT&quot;</td><td>5185491786</td><td>0.018</td><td>1</td><td>2024-07-20 00:01:00.069500</td></tr><tr><td>1721433660157500000</td><td>66690.0</td><td>&quot;BTCUSDT&quot;</td><td>5185491787</td><td>0.003</td><td>1</td><td>2024-07-20 00:01:00.157500</td></tr><tr><td>1721433660303500000</td><td>3503.64</td><td>&quot;ETHUSDT&quot;</td><td>4221078684</td><td>0.014</td><td>1</td><td>2024-07-20 00:01:00.303500</td></tr><tr><td>1721433660481500000</td><td>3503.63</td><td>&quot;ETHUSDT&quot;</td><td>4221078685</td><td>-0.006</td><td>-1</td><td>2024-07-20 00:01:00.481500</td></tr></tbody></table></div>"
      ],
      "text/plain": [
       "shape: (5, 7)\n",
       "┌─────────────────────┬─────────┬─────────┬────────────┬────────┬──────┬─────────────────┐\n",
       "│ ts                  ┆ prc     ┆ product ┆ trade_id   ┆ qty    ┆ side ┆ dts             │\n",
       "│ ---                 ┆ ---     ┆ ---     ┆ ---        ┆ ---    ┆ ---  ┆ ---             │\n",
       "│ u64                 ┆ f64     ┆ str     ┆ u64        ┆ f64    ┆ i32  ┆ datetime[ns]    │\n",
       "╞═════════════════════╪═════════╪═════════╪════════════╪════════╪══════╪═════════════════╡\n",
       "│ 1721433660058500000 ┆ 66690.0 ┆ BTCUSDT ┆ 5185491785 ┆ 0.059  ┆ 1    ┆ 2024-07-20      │\n",
       "│                     ┆         ┆         ┆            ┆        ┆      ┆ 00:01:00.058500 │\n",
       "│ 1721433660069500000 ┆ 66690.0 ┆ BTCUSDT ┆ 5185491786 ┆ 0.018  ┆ 1    ┆ 2024-07-20      │\n",
       "│                     ┆         ┆         ┆            ┆        ┆      ┆ 00:01:00.069500 │\n",
       "│ 1721433660157500000 ┆ 66690.0 ┆ BTCUSDT ┆ 5185491787 ┆ 0.003  ┆ 1    ┆ 2024-07-20      │\n",
       "│                     ┆         ┆         ┆            ┆        ┆      ┆ 00:01:00.157500 │\n",
       "│ 1721433660303500000 ┆ 3503.64 ┆ ETHUSDT ┆ 4221078684 ┆ 0.014  ┆ 1    ┆ 2024-07-20      │\n",
       "│                     ┆         ┆         ┆            ┆        ┆      ┆ 00:01:00.303500 │\n",
       "│ 1721433660481500000 ┆ 3503.63 ┆ ETHUSDT ┆ 4221078685 ┆ -0.006 ┆ -1   ┆ 2024-07-20      │\n",
       "│                     ┆         ┆         ┆            ┆        ┆      ┆ 00:01:00.481500 │\n",
       "└─────────────────────┴─────────┴─────────┴────────────┴────────┴──────┴─────────────────┘"
      ]
     },
     "execution_count": 14,
     "metadata": {},
     "output_type": "execute_result"
    }
   ],
   "source": [
    "# Just to check that it works\n",
    "tdf = tdf.collect()\n",
    "tdf.head()"
   ]
  },
  {
   "cell_type": "markdown",
   "metadata": {},
   "source": [
    "###  <a id='chapter2'> <font color=\"grey\">2. Trade decomposition </font></a>"
   ]
  },
  {
   "cell_type": "code",
   "execution_count": 15,
   "metadata": {},
   "outputs": [
    {
     "name": "stdout",
     "output_type": "stream",
     "text": [
      "shape: (10, 5)\n",
      "┌─────────────────────┬─────────┬──────────┬─────┬─────┐\n",
      "│ ts                  ┆ product ┆ trade_id ┆ prc ┆ qty │\n",
      "│ ---                 ┆ ---     ┆ ---      ┆ --- ┆ --- │\n",
      "│ datetime[μs]        ┆ str     ┆ i64      ┆ i64 ┆ i64 │\n",
      "╞═════════════════════╪═════════╪══════════╪═════╪═════╡\n",
      "│ 2025-02-23 09:00:00 ┆ BTCUSDT ┆ 0        ┆ 100 ┆ 10  │\n",
      "│ 2025-02-23 09:00:00 ┆ SOLUSDT ┆ 1        ┆ 102 ┆ 15  │\n",
      "│ 2025-02-23 09:00:10 ┆ SOLUSDT ┆ 2        ┆ 101 ┆ 12  │\n",
      "│ 2025-02-23 09:00:20 ┆ ETHUSDT ┆ 3        ┆ 103 ┆ 20  │\n",
      "│ 2025-02-23 09:00:40 ┆ BTCUSDT ┆ 4        ┆ 104 ┆ -18 │\n",
      "│ 2025-02-23 09:01:40 ┆ ETHUSDT ┆ 5        ┆ 103 ┆ 21  │\n",
      "│ 2025-02-23 09:02:30 ┆ ETHUSDT ┆ 6        ┆ 101 ┆ -15 │\n",
      "│ 2025-02-23 09:02:40 ┆ BTCUSDT ┆ 7        ┆ 100 ┆ 12  │\n",
      "│ 2025-02-23 09:03:30 ┆ SOLUSDT ┆ 8        ┆ 99  ┆ -10 │\n",
      "│ 2025-02-23 09:03:40 ┆ SOLUSDT ┆ 9        ┆ 98  ┆ 10  │\n",
      "└─────────────────────┴─────────┴──────────┴─────┴─────┘\n"
     ]
    }
   ],
   "source": [
    "# Create a simple dataframe to test the trade classification\n",
    "prods = ['BTCUSDT', 'ETHUSDT', 'SOLUSDT']\n",
    "delta = \"30s\"\n",
    "data = {\n",
    "    \"ts\": [\n",
    "        \"2025-02-23 09:00:00\",\n",
    "        \"2025-02-23 09:00:00\",\n",
    "        \"2025-02-23 09:00:10\",\n",
    "        \"2025-02-23 09:00:20\",\n",
    "        \"2025-02-23 09:00:40\",\n",
    "        \"2025-02-23 09:01:40\",\n",
    "        \"2025-02-23 09:02:30\",\n",
    "        \"2025-02-23 09:02:40\",\n",
    "        \"2025-02-23 09:03:30\",\n",
    "        \"2025-02-23 09:03:40\"\n",
    "    ],\n",
    "    \"product\": [\n",
    "        \"BTCUSDT\", \"SOLUSDT\", \"SOLUSDT\", \"ETHUSDT\", \"BTCUSDT\",\n",
    "        \"ETHUSDT\", \"ETHUSDT\", \"BTCUSDT\", \"SOLUSDT\", \"SOLUSDT\"\n",
    "    ],\n",
    "    \"trade_id\": [0, 1, 2, 3, 4, 5, 6, 7, 8, 9],\n",
    "    \"prc\": [100, 102, 101, 103, 104, 103, 101, 100, 99, 98],\n",
    "    \"qty\": [10, 15, 12, 20, -18, 21, -15, 12, -10, 10]\n",
    "}\n",
    "\n",
    "df = pl.DataFrame(data)\n",
    "df = df.with_columns(\n",
    "    pl.col(\"ts\").str.strptime(pl.Datetime, format=\"%Y-%m-%d %H:%M:%S\")\n",
    ")\n",
    "\n",
    "print(df)"
   ]
  },
  {
   "cell_type": "code",
   "execution_count": 18,
   "metadata": {},
   "outputs": [
    {
     "data": {
      "text/html": [
       "<div><style>\n",
       ".dataframe > thead > tr,\n",
       ".dataframe > tbody > tr {\n",
       "  text-align: right;\n",
       "  white-space: pre-wrap;\n",
       "}\n",
       "</style>\n",
       "<small>shape: (10, 6)</small><table border=\"1\" class=\"dataframe\"><thead><tr><th>ts</th><th>product</th><th>trade_id</th><th>prc</th><th>qty</th><th>trade_type</th></tr><tr><td>datetime[μs]</td><td>str</td><td>i64</td><td>i64</td><td>i64</td><td>str</td></tr></thead><tbody><tr><td>2025-02-23 09:00:00</td><td>&quot;BTCUSDT&quot;</td><td>0</td><td>100</td><td>10</td><td>&quot;nis-c&quot;</td></tr><tr><td>2025-02-23 09:00:00</td><td>&quot;SOLUSDT&quot;</td><td>1</td><td>102</td><td>15</td><td>&quot;nis-b&quot;</td></tr><tr><td>2025-02-23 09:00:10</td><td>&quot;SOLUSDT&quot;</td><td>2</td><td>101</td><td>12</td><td>&quot;nis-b&quot;</td></tr><tr><td>2025-02-23 09:00:20</td><td>&quot;ETHUSDT&quot;</td><td>3</td><td>103</td><td>20</td><td>&quot;nis-c&quot;</td></tr><tr><td>2025-02-23 09:00:40</td><td>&quot;BTCUSDT&quot;</td><td>4</td><td>104</td><td>-18</td><td>&quot;nis-c&quot;</td></tr><tr><td>2025-02-23 09:01:40</td><td>&quot;ETHUSDT&quot;</td><td>5</td><td>103</td><td>21</td><td>&quot;iso&quot;</td></tr><tr><td>2025-02-23 09:02:30</td><td>&quot;ETHUSDT&quot;</td><td>6</td><td>101</td><td>-15</td><td>&quot;nis-c&quot;</td></tr><tr><td>2025-02-23 09:02:40</td><td>&quot;BTCUSDT&quot;</td><td>7</td><td>100</td><td>12</td><td>&quot;nis-c&quot;</td></tr><tr><td>2025-02-23 09:03:30</td><td>&quot;SOLUSDT&quot;</td><td>8</td><td>99</td><td>-10</td><td>&quot;nis-s&quot;</td></tr><tr><td>2025-02-23 09:03:40</td><td>&quot;SOLUSDT&quot;</td><td>9</td><td>98</td><td>10</td><td>&quot;nis-s&quot;</td></tr></tbody></table></div>"
      ],
      "text/plain": [
       "shape: (10, 6)\n",
       "┌─────────────────────┬─────────┬──────────┬─────┬─────┬────────────┐\n",
       "│ ts                  ┆ product ┆ trade_id ┆ prc ┆ qty ┆ trade_type │\n",
       "│ ---                 ┆ ---     ┆ ---      ┆ --- ┆ --- ┆ ---        │\n",
       "│ datetime[μs]        ┆ str     ┆ i64      ┆ i64 ┆ i64 ┆ str        │\n",
       "╞═════════════════════╪═════════╪══════════╪═════╪═════╪════════════╡\n",
       "│ 2025-02-23 09:00:00 ┆ BTCUSDT ┆ 0        ┆ 100 ┆ 10  ┆ nis-c      │\n",
       "│ 2025-02-23 09:00:00 ┆ SOLUSDT ┆ 1        ┆ 102 ┆ 15  ┆ nis-b      │\n",
       "│ 2025-02-23 09:00:10 ┆ SOLUSDT ┆ 2        ┆ 101 ┆ 12  ┆ nis-b      │\n",
       "│ 2025-02-23 09:00:20 ┆ ETHUSDT ┆ 3        ┆ 103 ┆ 20  ┆ nis-c      │\n",
       "│ 2025-02-23 09:00:40 ┆ BTCUSDT ┆ 4        ┆ 104 ┆ -18 ┆ nis-c      │\n",
       "│ 2025-02-23 09:01:40 ┆ ETHUSDT ┆ 5        ┆ 103 ┆ 21  ┆ iso        │\n",
       "│ 2025-02-23 09:02:30 ┆ ETHUSDT ┆ 6        ┆ 101 ┆ -15 ┆ nis-c      │\n",
       "│ 2025-02-23 09:02:40 ┆ BTCUSDT ┆ 7        ┆ 100 ┆ 12  ┆ nis-c      │\n",
       "│ 2025-02-23 09:03:30 ┆ SOLUSDT ┆ 8        ┆ 99  ┆ -10 ┆ nis-s      │\n",
       "│ 2025-02-23 09:03:40 ┆ SOLUSDT ┆ 9        ┆ 98  ┆ 10  ┆ nis-s      │\n",
       "└─────────────────────┴─────────┴──────────┴─────┴─────┴────────────┘"
      ]
     },
     "execution_count": 18,
     "metadata": {},
     "output_type": "execute_result"
    }
   ],
   "source": [
    "tdf = classify_trades(df, prods, \"ts\", \"30s\")\n",
    "tdf"
   ]
  },
  {
   "cell_type": "code",
   "execution_count": 19,
   "metadata": {},
   "outputs": [
    {
     "data": {
      "image/png": "[encoded data removed]",
      "text/plain": [
       "<Figure size 1000x400 with 1 Axes>"
      ]
     },
     "metadata": {},
     "output_type": "display_data"
    }
   ],
   "source": [
    "plot_trades(tdf, ['BTCUSDT', 'ETHUSDT', 'SOLUSDT'], 'ts', '250223.090000', 10, '30s')"
   ]
  },
  {
   "cell_type": "code",
   "execution_count": 20,
   "metadata": {},
   "outputs": [
    {
     "name": "stdout",
     "output_type": "stream",
     "text": [
      "shape: (10, 7)\n",
      "┌─────────────────────┬─────────┬──────────┬─────┬─────┬────────────┬──────────────┐\n",
      "│ ts                  ┆ product ┆ trade_id ┆ prc ┆ qty ┆ trade_type ┆ coi_nis-c_1m │\n",
      "│ ---                 ┆ ---     ┆ ---      ┆ --- ┆ --- ┆ ---        ┆ ---          │\n",
      "│ datetime[μs]        ┆ str     ┆ i64      ┆ i64 ┆ i64 ┆ str        ┆ f64          │\n",
      "╞═════════════════════╪═════════╪══════════╪═════╪═════╪════════════╪══════════════╡\n",
      "│ 2025-02-23 09:00:00 ┆ BTCUSDT ┆ 0        ┆ 100 ┆ 10  ┆ nis-c      ┆ 0.0          │\n",
      "│ 2025-02-23 09:00:00 ┆ SOLUSDT ┆ 1        ┆ 102 ┆ 15  ┆ nis-b      ┆ 0.0          │\n",
      "│ 2025-02-23 09:00:10 ┆ SOLUSDT ┆ 2        ┆ 101 ┆ 12  ┆ nis-b      ┆ 1.0          │\n",
      "│ 2025-02-23 09:00:20 ┆ ETHUSDT ┆ 3        ┆ 103 ┆ 20  ┆ nis-c      ┆ 1.0          │\n",
      "│ 2025-02-23 09:00:40 ┆ BTCUSDT ┆ 4        ┆ 104 ┆ -18 ┆ nis-c      ┆ 1.0          │\n",
      "│ 2025-02-23 09:01:40 ┆ ETHUSDT ┆ 5        ┆ 103 ┆ 21  ┆ iso        ┆ -1.0         │\n",
      "│ 2025-02-23 09:02:30 ┆ ETHUSDT ┆ 6        ┆ 101 ┆ -15 ┆ nis-c      ┆ 0.0          │\n",
      "│ 2025-02-23 09:02:40 ┆ BTCUSDT ┆ 7        ┆ 100 ┆ 12  ┆ nis-c      ┆ -1.0         │\n",
      "│ 2025-02-23 09:03:30 ┆ SOLUSDT ┆ 8        ┆ 99  ┆ -10 ┆ nis-s      ┆ -0.111111    │\n",
      "│ 2025-02-23 09:03:40 ┆ SOLUSDT ┆ 9        ┆ 98  ┆ 10  ┆ nis-s      ┆ 1.0          │\n",
      "└─────────────────────┴─────────┴──────────┴─────┴─────┴────────────┴──────────────┘\n"
     ]
    }
   ],
   "source": [
    "cdf = coi(tdf, \"ts\", \"60s\", \"nis-c\")\n",
    "print(cdf)"
   ]
  },
  {
   "cell_type": "code",
   "execution_count": 22,
   "metadata": {},
   "outputs": [],
   "source": [
    "# Now for some real data\n",
    "df = dl.load_trades(RCS, ['240707.0800', '240707.2200']).ds.add_datetime('ts')"
   ]
  },
  {
   "cell_type": "code",
   "execution_count": 23,
   "metadata": {},
   "outputs": [
    {
     "data": {
      "text/html": [
       "<div><style>\n",
       ".dataframe > thead > tr,\n",
       ".dataframe > tbody > tr {\n",
       "  text-align: right;\n",
       "  white-space: pre-wrap;\n",
       "}\n",
       "</style>\n",
       "<small>shape: (5, 6)</small><table border=\"1\" class=\"dataframe\"><thead><tr><th>ts</th><th>prc</th><th>product</th><th>trade_id</th><th>qty</th><th>dts</th></tr><tr><td>u64</td><td>f64</td><td>str</td><td>u64</td><td>f64</td><td>datetime[ns]</td></tr></thead><tbody><tr><td>1720339200013500000</td><td>0.10995</td><td>&quot;DOGEUSDT&quot;</td><td>1788181660</td><td>13502.0</td><td>2024-07-07 08:00:00.013500</td></tr><tr><td>1720339200057500000</td><td>3002.98</td><td>&quot;ETHUSDT&quot;</td><td>4179414149</td><td>0.185</td><td>2024-07-07 08:00:00.057500</td></tr><tr><td>1720339200063500000</td><td>3002.98</td><td>&quot;ETHUSDT&quot;</td><td>4179414150</td><td>0.022</td><td>2024-07-07 08:00:00.063500</td></tr><tr><td>1720339200068500000</td><td>3002.98</td><td>&quot;ETHUSDT&quot;</td><td>4179414151</td><td>1.0</td><td>2024-07-07 08:00:00.068500</td></tr><tr><td>1720339200080500000</td><td>3002.98</td><td>&quot;ETHUSDT&quot;</td><td>4179414154</td><td>0.655</td><td>2024-07-07 08:00:00.080500</td></tr></tbody></table></div>"
      ],
      "text/plain": [
       "shape: (5, 6)\n",
       "┌─────────────────────┬─────────┬──────────┬────────────┬─────────┬────────────────────────────┐\n",
       "│ ts                  ┆ prc     ┆ product  ┆ trade_id   ┆ qty     ┆ dts                        │\n",
       "│ ---                 ┆ ---     ┆ ---      ┆ ---        ┆ ---     ┆ ---                        │\n",
       "│ u64                 ┆ f64     ┆ str      ┆ u64        ┆ f64     ┆ datetime[ns]               │\n",
       "╞═════════════════════╪═════════╪══════════╪════════════╪═════════╪════════════════════════════╡\n",
       "│ 1720339200013500000 ┆ 0.10995 ┆ DOGEUSDT ┆ 1788181660 ┆ 13502.0 ┆ 2024-07-07 08:00:00.013500 │\n",
       "│ 1720339200057500000 ┆ 3002.98 ┆ ETHUSDT  ┆ 4179414149 ┆ 0.185   ┆ 2024-07-07 08:00:00.057500 │\n",
       "│ 1720339200063500000 ┆ 3002.98 ┆ ETHUSDT  ┆ 4179414150 ┆ 0.022   ┆ 2024-07-07 08:00:00.063500 │\n",
       "│ 1720339200068500000 ┆ 3002.98 ┆ ETHUSDT  ┆ 4179414151 ┆ 1.0     ┆ 2024-07-07 08:00:00.068500 │\n",
       "│ 1720339200080500000 ┆ 3002.98 ┆ ETHUSDT  ┆ 4179414154 ┆ 0.655   ┆ 2024-07-07 08:00:00.080500 │\n",
       "└─────────────────────┴─────────┴──────────┴────────────┴─────────┴────────────────────────────┘"
      ]
     },
     "execution_count": 23,
     "metadata": {},
     "output_type": "execute_result"
    }
   ],
   "source": [
    "# Aggregate trades by timestamp and price and add human readable timestamp\n",
    "tdf = df.trade.agg_trades().ds.add_datetime('ts')\n",
    "tdf.head()"
   ]
  },
  {
   "cell_type": "code",
   "execution_count": 24,
   "metadata": {},
   "outputs": [
    {
     "data": {
      "text/html": [
       "<div><style>\n",
       ".dataframe > thead > tr,\n",
       ".dataframe > tbody > tr {\n",
       "  text-align: right;\n",
       "  white-space: pre-wrap;\n",
       "}\n",
       "</style>\n",
       "<small>shape: (5, 7)</small><table border=\"1\" class=\"dataframe\"><thead><tr><th>ts</th><th>prc</th><th>product</th><th>trade_id</th><th>qty</th><th>dts</th><th>trade_type</th></tr><tr><td>u64</td><td>f64</td><td>str</td><td>u64</td><td>f64</td><td>datetime[ns]</td><td>str</td></tr></thead><tbody><tr><td>1720339200013500000</td><td>0.10995</td><td>&quot;DOGEUSDT&quot;</td><td>1788181660</td><td>13502.0</td><td>2024-07-07 08:00:00.013500</td><td>&quot;iso&quot;</td></tr><tr><td>1720339200057500000</td><td>3002.98</td><td>&quot;ETHUSDT&quot;</td><td>4179414149</td><td>0.185</td><td>2024-07-07 08:00:00.057500</td><td>&quot;iso&quot;</td></tr><tr><td>1720339200063500000</td><td>3002.98</td><td>&quot;ETHUSDT&quot;</td><td>4179414150</td><td>0.022</td><td>2024-07-07 08:00:00.063500</td><td>&quot;nis-s&quot;</td></tr><tr><td>1720339200068500000</td><td>3002.98</td><td>&quot;ETHUSDT&quot;</td><td>4179414151</td><td>1.0</td><td>2024-07-07 08:00:00.068500</td><td>&quot;nis-s&quot;</td></tr><tr><td>1720339200080500000</td><td>3002.98</td><td>&quot;ETHUSDT&quot;</td><td>4179414154</td><td>0.655</td><td>2024-07-07 08:00:00.080500</td><td>&quot;nis-s&quot;</td></tr></tbody></table></div>"
      ],
      "text/plain": [
       "shape: (5, 7)\n",
       "┌───────────────────────┬─────────┬──────────┬────────────┬─────────┬─────────────────┬────────────┐\n",
       "│ ts                    ┆ prc     ┆ product  ┆ trade_id   ┆ qty     ┆ dts             ┆ trade_type │\n",
       "│ ---                   ┆ ---     ┆ ---      ┆ ---        ┆ ---     ┆ ---             ┆ ---        │\n",
       "│ u64                   ┆ f64     ┆ str      ┆ u64        ┆ f64     ┆ datetime[ns]    ┆ str        │\n",
       "╞═══════════════════════╪═════════╪══════════╪════════════╪═════════╪═════════════════╪════════════╡\n",
       "│ 1720339200013500000   ┆ 0.10995 ┆ DOGEUSDT ┆ 1788181660 ┆ 13502.0 ┆ 2024-07-07      ┆ iso        │\n",
       "│                       ┆         ┆          ┆            ┆         ┆ 08:00:00.013500 ┆            │\n",
       "│ 1720339200057500000   ┆ 3002.98 ┆ ETHUSDT  ┆ 4179414149 ┆ 0.185   ┆ 2024-07-07      ┆ iso        │\n",
       "│                       ┆         ┆          ┆            ┆         ┆ 08:00:00.057500 ┆            │\n",
       "│ 1720339200063500000   ┆ 3002.98 ┆ ETHUSDT  ┆ 4179414150 ┆ 0.022   ┆ 2024-07-07      ┆ nis-s      │\n",
       "│                       ┆         ┆          ┆            ┆         ┆ 08:00:00.063500 ┆            │\n",
       "│ 1720339200068500000   ┆ 3002.98 ┆ ETHUSDT  ┆ 4179414151 ┆ 1.0     ┆ 2024-07-07      ┆ nis-s      │\n",
       "│                       ┆         ┆          ┆            ┆         ┆ 08:00:00.068500 ┆            │\n",
       "│ 1720339200080500000   ┆ 3002.98 ┆ ETHUSDT  ┆ 4179414154 ┆ 0.655   ┆ 2024-07-07      ┆ nis-s      │\n",
       "│                       ┆         ┆          ┆            ┆         ┆ 08:00:00.080500 ┆            │\n",
       "└───────────────────────┴─────────┴──────────┴────────────┴─────────┴─────────────────┴────────────┘"
      ]
     },
     "execution_count": 24,
     "metadata": {},
     "output_type": "execute_result"
    }
   ],
   "source": [
    "tdf = classify_trades(tdf, RCS, \"dts\", \"5ms\")\n",
    "tdf.head()"
   ]
  },
  {
   "cell_type": "code",
   "execution_count": 25,
   "metadata": {},
   "outputs": [
    {
     "data": {
      "text/html": [
       "<div><style>\n",
       ".dataframe > thead > tr,\n",
       ".dataframe > tbody > tr {\n",
       "  text-align: right;\n",
       "  white-space: pre-wrap;\n",
       "}\n",
       "</style>\n",
       "<small>shape: (5, 8)</small><table border=\"1\" class=\"dataframe\"><thead><tr><th>ts</th><th>prc</th><th>product</th><th>trade_id</th><th>qty</th><th>dts</th><th>trade_type</th><th>coi_nis-c_5m</th></tr><tr><td>u64</td><td>f64</td><td>str</td><td>u64</td><td>f64</td><td>datetime[ns]</td><td>str</td><td>f64</td></tr></thead><tbody><tr><td>1720389599755500000</td><td>56566.4</td><td>&quot;BTCUSDT&quot;</td><td>5144903591</td><td>-0.002</td><td>2024-07-07 21:59:59.755500</td><td>&quot;nis-s&quot;</td><td>-0.162795</td></tr><tr><td>1720389599755500000</td><td>56566.1</td><td>&quot;BTCUSDT&quot;</td><td>5144903592</td><td>-2.02</td><td>2024-07-07 21:59:59.755500</td><td>&quot;nis-s&quot;</td><td>-0.162795</td></tr><tr><td>1720389599755500000</td><td>56566.0</td><td>&quot;BTCUSDT&quot;</td><td>5144903595</td><td>-0.179</td><td>2024-07-07 21:59:59.755500</td><td>&quot;nis-s&quot;</td><td>-0.162795</td></tr><tr><td>1720389599755500000</td><td>56565.8</td><td>&quot;BTCUSDT&quot;</td><td>5144903597</td><td>-1.792</td><td>2024-07-07 21:59:59.755500</td><td>&quot;nis-s&quot;</td><td>-0.162795</td></tr><tr><td>1720389599999500000</td><td>134.246</td><td>&quot;SOLUSDT&quot;</td><td>1649565674</td><td>2.0</td><td>2024-07-07 21:59:59.999500</td><td>&quot;iso&quot;</td><td>-0.162795</td></tr></tbody></table></div>"
      ],
      "text/plain": [
       "shape: (5, 8)\n",
       "┌──────────────┬─────────┬─────────┬────────────┬────────┬──────────────┬────────────┬─────────────┐\n",
       "│ ts           ┆ prc     ┆ product ┆ trade_id   ┆ qty    ┆ dts          ┆ trade_type ┆ coi_nis-c_5 │\n",
       "│ ---          ┆ ---     ┆ ---     ┆ ---        ┆ ---    ┆ ---          ┆ ---        ┆ m           │\n",
       "│ u64          ┆ f64     ┆ str     ┆ u64        ┆ f64    ┆ datetime[ns] ┆ str        ┆ ---         │\n",
       "│              ┆         ┆         ┆            ┆        ┆              ┆            ┆ f64         │\n",
       "╞══════════════╪═════════╪═════════╪════════════╪════════╪══════════════╪════════════╪═════════════╡\n",
       "│ 172038959975 ┆ 56566.4 ┆ BTCUSDT ┆ 5144903591 ┆ -0.002 ┆ 2024-07-07   ┆ nis-s      ┆ -0.162795   │\n",
       "│ 5500000      ┆         ┆         ┆            ┆        ┆ 21:59:59.755 ┆            ┆             │\n",
       "│              ┆         ┆         ┆            ┆        ┆ 500          ┆            ┆             │\n",
       "│ 172038959975 ┆ 56566.1 ┆ BTCUSDT ┆ 5144903592 ┆ -2.02  ┆ 2024-07-07   ┆ nis-s      ┆ -0.162795   │\n",
       "│ 5500000      ┆         ┆         ┆            ┆        ┆ 21:59:59.755 ┆            ┆             │\n",
       "│              ┆         ┆         ┆            ┆        ┆ 500          ┆            ┆             │\n",
       "│ 172038959975 ┆ 56566.0 ┆ BTCUSDT ┆ 5144903595 ┆ -0.179 ┆ 2024-07-07   ┆ nis-s      ┆ -0.162795   │\n",
       "│ 5500000      ┆         ┆         ┆            ┆        ┆ 21:59:59.755 ┆            ┆             │\n",
       "│              ┆         ┆         ┆            ┆        ┆ 500          ┆            ┆             │\n",
       "│ 172038959975 ┆ 56565.8 ┆ BTCUSDT ┆ 5144903597 ┆ -1.792 ┆ 2024-07-07   ┆ nis-s      ┆ -0.162795   │\n",
       "│ 5500000      ┆         ┆         ┆            ┆        ┆ 21:59:59.755 ┆            ┆             │\n",
       "│              ┆         ┆         ┆            ┆        ┆ 500          ┆            ┆             │\n",
       "│ 172038959999 ┆ 134.246 ┆ SOLUSDT ┆ 1649565674 ┆ 2.0    ┆ 2024-07-07   ┆ iso        ┆ -0.162795   │\n",
       "│ 9500000      ┆         ┆         ┆            ┆        ┆ 21:59:59.999 ┆            ┆             │\n",
       "│              ┆         ┆         ┆            ┆        ┆ 500          ┆            ┆             │\n",
       "└──────────────┴─────────┴─────────┴────────────┴────────┴──────────────┴────────────┴─────────────┘"
      ]
     },
     "execution_count": 25,
     "metadata": {},
     "output_type": "execute_result"
    }
   ],
   "source": [
    "cdf = coi(tdf, \"dts\", \"5m\", \"nis-c\")\n",
    "cdf.tail()"
   ]
  },
  {
   "cell_type": "code",
   "execution_count": null,
   "metadata": {},
   "outputs": [],
   "source": []
  }
 ],
 "metadata": {
  "kernelspec": {
   "display_name": ".venv",
   "language": "python",
   "name": "python3"
  },
  "language_info": {
   "codemirror_mode": {
    "name": "ipython",
    "version": 3
   },
   "file_extension": ".py",
   "mimetype": "text/x-python",
   "name": "python",
   "nbconvert_exporter": "python",
   "pygments_lexer": "ipython3",
   "version": "3.13.2"
  }
 },
 "nbformat": 4,
 "nbformat_minor": 2
}
