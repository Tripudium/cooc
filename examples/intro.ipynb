{
 "cells": [
  {
   "cell_type": "code",
   "execution_count": 1,
   "metadata": {},
   "outputs": [],
   "source": [
    "%load_ext autoreload\n",
    "%autoreload 2"
   ]
  },
  {
   "cell_type": "code",
   "execution_count": 170,
   "metadata": {},
   "outputs": [],
   "source": [
    "import matplotlib.pyplot as plt\n",
    "import polars as pl\n",
    "from datetime import timedelta\n",
    "import matplotlib.dates as mdates\n"
   ]
  },
  {
   "cell_type": "code",
   "execution_count": 197,
   "metadata": {},
   "outputs": [],
   "source": [
    "from tradedecomp.hdb import get_dataset\n",
    "from tradedecomp.plots import plot_trades"
   ]
  },
  {
   "cell_type": "markdown",
   "metadata": {
    "vscode": {
     "languageId": "plaintext"
    }
   },
   "source": [
    "# <font color=\"grey\">Trade decomposition</font>"
   ]
  },
  {
   "cell_type": "markdown",
   "metadata": {},
   "source": [
    "### <font color=\"grey\">  Table of Contents</font>\n",
    "\n",
    "1. #### <a href='#chapter1'>Data</a>\n",
    "2. #### <a href='#chapter2'>Trade decomposition</a>"
   ]
  },
  {
   "cell_type": "markdown",
   "metadata": {},
   "source": [
    "###  <a id='chapter1'> <font color=\"grey\">1. Data </font></a>"
   ]
  },
  {
   "cell_type": "markdown",
   "metadata": {},
   "source": [
    "Data is currently available for 5 products, namely perpetual futures contracts for the following pairs: BTC-USDT, ETH-USDT, SOL-USDT, DOGE-USDT and LINK-USDT. The details on these products are not important for the time being, they just represent time series. Data is available for trades and quotes (level 1 limit order book) for a period from June to end of August. For each month, the data begins at 00:01 of the first day and ends at 23:50.\n",
    "\n",
    "The timestamps are given in nanosecond resolution as Unix timestamps, but the granularity of the data is not that fine. A simple dataloader and some helper function to convert Python datetime objects or strings of the form '240802.1450' into timestamps are provided. The 'book' data contains best bid and ask prices with corresponding volumes. The 'trade' data contains trades, with a signed quantity representing direction. There is also an associated trade id in order to identify individual trades.\n",
    "\n",
    "The book data is mainly to determine the price movements and for potential backtests. In the original dataset there are more timestamps (depending on when the data was sent or received) but I don't think this matters at the moment. One could try to align what happens in the trades with what happens in the book dataset.\n",
    "\n",
    "We make heavy use of [polars](https://pola.rs/), for the simple reason of performance. If one is not used to it, the learning curve can be steep but it will make things quicker in the long run. We also work with polars extensions to easily add features to the data."
   ]
  },
  {
   "cell_type": "code",
   "execution_count": 4,
   "metadata": {},
   "outputs": [],
   "source": [
    "dl = get_dataset(\"trnk\")"
   ]
  },
  {
   "cell_type": "code",
   "execution_count": 5,
   "metadata": {},
   "outputs": [],
   "source": [
    "RCS = [f\"{coin}USDT\" for coin in [\"BTC\", \"ETH\", \"SOL\", \"DOGE\", \"LINK\"]]\n",
    "TYPE = ['book', 'trade']\n",
    "MONTHS = ['06', '07', '08']\n",
    "TIMES = ['240720.0001', '240730.2350']"
   ]
  },
  {
   "cell_type": "code",
   "execution_count": 6,
   "metadata": {},
   "outputs": [],
   "source": [
    "df = dl.load_book(RCS[0:2], TIMES, lazy=True)\n",
    "# Add human readable timestamp and mid prices\n",
    "df = df._dt.add_datetime('ts')._feat.add_mid(products=RCS[0:2])"
   ]
  },
  {
   "cell_type": "code",
   "execution_count": 7,
   "metadata": {},
   "outputs": [
    {
     "data": {
      "text/html": [
       "<div><style>\n",
       ".dataframe > thead > tr,\n",
       ".dataframe > tbody > tr {\n",
       "  text-align: right;\n",
       "  white-space: pre-wrap;\n",
       "}\n",
       "</style>\n",
       "<small>shape: (5, 12)</small><table border=\"1\" class=\"dataframe\"><thead><tr><th>ts</th><th>prc__s0_BTCUSDT</th><th>prc__s1_BTCUSDT</th><th>vol__s0_BTCUSDT</th><th>vol__s1_BTCUSDT</th><th>prc__s0_ETHUSDT</th><th>prc__s1_ETHUSDT</th><th>vol__s0_ETHUSDT</th><th>vol__s1_ETHUSDT</th><th>dts</th><th>mid_BTCUSDT</th><th>mid_ETHUSDT</th></tr><tr><td>u64</td><td>f64</td><td>f64</td><td>f64</td><td>f64</td><td>f64</td><td>f64</td><td>f64</td><td>f64</td><td>datetime[ns]</td><td>f64</td><td>f64</td></tr></thead><tbody><tr><td>1721433660056500000</td><td>66689.9</td><td>66690.0</td><td>7.331</td><td>10.59</td><td>3503.63</td><td>3503.64</td><td>12.785</td><td>82.869</td><td>2024-07-20 00:01:00.056500</td><td>66689.95</td><td>3503.635</td></tr><tr><td>1721433660058500000</td><td>66689.9</td><td>66690.0</td><td>7.331</td><td>10.531</td><td>3503.63</td><td>3503.64</td><td>12.785</td><td>82.869</td><td>2024-07-20 00:01:00.058500</td><td>66689.95</td><td>3503.635</td></tr><tr><td>1721433660063500000</td><td>66689.9</td><td>66690.0</td><td>7.329</td><td>10.531</td><td>3503.63</td><td>3503.64</td><td>0.332</td><td>82.869</td><td>2024-07-20 00:01:00.063500</td><td>66689.95</td><td>3503.635</td></tr><tr><td>1721433660066500000</td><td>66689.9</td><td>66690.0</td><td>6.079</td><td>10.531</td><td>3503.63</td><td>3503.64</td><td>0.332</td><td>82.883</td><td>2024-07-20 00:01:00.066500</td><td>66689.95</td><td>3503.635</td></tr><tr><td>1721433660069500000</td><td>66689.9</td><td>66690.0</td><td>6.079</td><td>10.513</td><td>3503.63</td><td>3503.64</td><td>0.332</td><td>82.883</td><td>2024-07-20 00:01:00.069500</td><td>66689.95</td><td>3503.635</td></tr></tbody></table></div>"
      ],
      "text/plain": [
       "shape: (5, 12)\n",
       "┌───────────┬───────────┬───────────┬───────────┬───┬───────────┬───────────┬───────────┬──────────┐\n",
       "│ ts        ┆ prc__s0_B ┆ prc__s1_B ┆ vol__s0_B ┆ … ┆ vol__s1_E ┆ dts       ┆ mid_BTCUS ┆ mid_ETHU │\n",
       "│ ---       ┆ TCUSDT    ┆ TCUSDT    ┆ TCUSDT    ┆   ┆ THUSDT    ┆ ---       ┆ DT        ┆ SDT      │\n",
       "│ u64       ┆ ---       ┆ ---       ┆ ---       ┆   ┆ ---       ┆ datetime[ ┆ ---       ┆ ---      │\n",
       "│           ┆ f64       ┆ f64       ┆ f64       ┆   ┆ f64       ┆ ns]       ┆ f64       ┆ f64      │\n",
       "╞═══════════╪═══════════╪═══════════╪═══════════╪═══╪═══════════╪═══════════╪═══════════╪══════════╡\n",
       "│ 172143366 ┆ 66689.9   ┆ 66690.0   ┆ 7.331     ┆ … ┆ 82.869    ┆ 2024-07-2 ┆ 66689.95  ┆ 3503.635 │\n",
       "│ 005650000 ┆           ┆           ┆           ┆   ┆           ┆ 0 00:01:0 ┆           ┆          │\n",
       "│ 0         ┆           ┆           ┆           ┆   ┆           ┆ 0.056500  ┆           ┆          │\n",
       "│ 172143366 ┆ 66689.9   ┆ 66690.0   ┆ 7.331     ┆ … ┆ 82.869    ┆ 2024-07-2 ┆ 66689.95  ┆ 3503.635 │\n",
       "│ 005850000 ┆           ┆           ┆           ┆   ┆           ┆ 0 00:01:0 ┆           ┆          │\n",
       "│ 0         ┆           ┆           ┆           ┆   ┆           ┆ 0.058500  ┆           ┆          │\n",
       "│ 172143366 ┆ 66689.9   ┆ 66690.0   ┆ 7.329     ┆ … ┆ 82.869    ┆ 2024-07-2 ┆ 66689.95  ┆ 3503.635 │\n",
       "│ 006350000 ┆           ┆           ┆           ┆   ┆           ┆ 0 00:01:0 ┆           ┆          │\n",
       "│ 0         ┆           ┆           ┆           ┆   ┆           ┆ 0.063500  ┆           ┆          │\n",
       "│ 172143366 ┆ 66689.9   ┆ 66690.0   ┆ 6.079     ┆ … ┆ 82.883    ┆ 2024-07-2 ┆ 66689.95  ┆ 3503.635 │\n",
       "│ 006650000 ┆           ┆           ┆           ┆   ┆           ┆ 0 00:01:0 ┆           ┆          │\n",
       "│ 0         ┆           ┆           ┆           ┆   ┆           ┆ 0.066500  ┆           ┆          │\n",
       "│ 172143366 ┆ 66689.9   ┆ 66690.0   ┆ 6.079     ┆ … ┆ 82.883    ┆ 2024-07-2 ┆ 66689.95  ┆ 3503.635 │\n",
       "│ 006950000 ┆           ┆           ┆           ┆   ┆           ┆ 0 00:01:0 ┆           ┆          │\n",
       "│ 0         ┆           ┆           ┆           ┆   ┆           ┆ 0.069500  ┆           ┆          │\n",
       "└───────────┴───────────┴───────────┴───────────┴───┴───────────┴───────────┴───────────┴──────────┘"
      ]
     },
     "execution_count": 7,
     "metadata": {},
     "output_type": "execute_result"
    }
   ],
   "source": [
    "# This takes some time, not because of the loading but because of the aggregation\n",
    "df = df.collect()\n",
    "df.head()"
   ]
  },
  {
   "cell_type": "code",
   "execution_count": 9,
   "metadata": {},
   "outputs": [
    {
     "data": {
      "image/png": "[encoded data removed]",
      "text/plain": [
       "<Figure size 640x480 with 1 Axes>"
      ]
     },
     "metadata": {},
     "output_type": "display_data"
    }
   ],
   "source": [
    "plt.plot(df['dts'], df['mid_ETHUSDT'])\n",
    "plt.xlabel('Time')\n",
    "plt.ylabel('Mid price')\n",
    "plt.title('Mid price over time')\n",
    "plt.show()"
   ]
  },
  {
   "cell_type": "code",
   "execution_count": 10,
   "metadata": {},
   "outputs": [],
   "source": [
    "tdf = dl.load_trades(RCS[0:2], TIMES, lazy=True)\n",
    "# By default, the timestamp column is named 'ts'\n",
    "tdf = tdf._trade.agg_trades()._trade.add_side()._dt.add_datetime()"
   ]
  },
  {
   "cell_type": "code",
   "execution_count": 11,
   "metadata": {},
   "outputs": [
    {
     "data": {
      "text/html": [
       "<div><style>\n",
       ".dataframe > thead > tr,\n",
       ".dataframe > tbody > tr {\n",
       "  text-align: right;\n",
       "  white-space: pre-wrap;\n",
       "}\n",
       "</style>\n",
       "<small>shape: (5, 7)</small><table border=\"1\" class=\"dataframe\"><thead><tr><th>ts</th><th>prc</th><th>product</th><th>trade_id</th><th>qty</th><th>side</th><th>dts</th></tr><tr><td>u64</td><td>f64</td><td>str</td><td>u64</td><td>f64</td><td>i32</td><td>datetime[ns]</td></tr></thead><tbody><tr><td>1721433660058500000</td><td>66690.0</td><td>&quot;BTCUSDT&quot;</td><td>5185491785</td><td>0.059</td><td>1</td><td>2024-07-20 00:01:00.058500</td></tr><tr><td>1721433660069500000</td><td>66690.0</td><td>&quot;BTCUSDT&quot;</td><td>5185491786</td><td>0.018</td><td>1</td><td>2024-07-20 00:01:00.069500</td></tr><tr><td>1721433660157500000</td><td>66690.0</td><td>&quot;BTCUSDT&quot;</td><td>5185491787</td><td>0.003</td><td>1</td><td>2024-07-20 00:01:00.157500</td></tr><tr><td>1721433660303500000</td><td>3503.64</td><td>&quot;ETHUSDT&quot;</td><td>4221078684</td><td>0.014</td><td>1</td><td>2024-07-20 00:01:00.303500</td></tr><tr><td>1721433660481500000</td><td>3503.63</td><td>&quot;ETHUSDT&quot;</td><td>4221078685</td><td>-0.006</td><td>-1</td><td>2024-07-20 00:01:00.481500</td></tr></tbody></table></div>"
      ],
      "text/plain": [
       "shape: (5, 7)\n",
       "┌─────────────────────┬─────────┬─────────┬────────────┬────────┬──────┬─────────────────┐\n",
       "│ ts                  ┆ prc     ┆ product ┆ trade_id   ┆ qty    ┆ side ┆ dts             │\n",
       "│ ---                 ┆ ---     ┆ ---     ┆ ---        ┆ ---    ┆ ---  ┆ ---             │\n",
       "│ u64                 ┆ f64     ┆ str     ┆ u64        ┆ f64    ┆ i32  ┆ datetime[ns]    │\n",
       "╞═════════════════════╪═════════╪═════════╪════════════╪════════╪══════╪═════════════════╡\n",
       "│ 1721433660058500000 ┆ 66690.0 ┆ BTCUSDT ┆ 5185491785 ┆ 0.059  ┆ 1    ┆ 2024-07-20      │\n",
       "│                     ┆         ┆         ┆            ┆        ┆      ┆ 00:01:00.058500 │\n",
       "│ 1721433660069500000 ┆ 66690.0 ┆ BTCUSDT ┆ 5185491786 ┆ 0.018  ┆ 1    ┆ 2024-07-20      │\n",
       "│                     ┆         ┆         ┆            ┆        ┆      ┆ 00:01:00.069500 │\n",
       "│ 1721433660157500000 ┆ 66690.0 ┆ BTCUSDT ┆ 5185491787 ┆ 0.003  ┆ 1    ┆ 2024-07-20      │\n",
       "│                     ┆         ┆         ┆            ┆        ┆      ┆ 00:01:00.157500 │\n",
       "│ 1721433660303500000 ┆ 3503.64 ┆ ETHUSDT ┆ 4221078684 ┆ 0.014  ┆ 1    ┆ 2024-07-20      │\n",
       "│                     ┆         ┆         ┆            ┆        ┆      ┆ 00:01:00.303500 │\n",
       "│ 1721433660481500000 ┆ 3503.63 ┆ ETHUSDT ┆ 4221078685 ┆ -0.006 ┆ -1   ┆ 2024-07-20      │\n",
       "│                     ┆         ┆         ┆            ┆        ┆      ┆ 00:01:00.481500 │\n",
       "└─────────────────────┴─────────┴─────────┴────────────┴────────┴──────┴─────────────────┘"
      ]
     },
     "execution_count": 11,
     "metadata": {},
     "output_type": "execute_result"
    }
   ],
   "source": [
    "# Just to check that it works\n",
    "tdf.collect().head()"
   ]
  },
  {
   "cell_type": "markdown",
   "metadata": {},
   "source": [
    "###  <a id='chapter2'> <font color=\"grey\">2. Trade decomposition </font></a>"
   ]
  },
  {
   "cell_type": "code",
   "execution_count": 219,
   "metadata": {},
   "outputs": [
    {
     "name": "stdout",
     "output_type": "stream",
     "text": [
      "shape: (10, 5)\n",
      "┌─────────────────────┬─────────┬──────────┬─────┬─────┐\n",
      "│ ts                  ┆ product ┆ trade_id ┆ prc ┆ qty │\n",
      "│ ---                 ┆ ---     ┆ ---      ┆ --- ┆ --- │\n",
      "│ datetime[μs]        ┆ str     ┆ i64      ┆ i64 ┆ i64 │\n",
      "╞═════════════════════╪═════════╪══════════╪═════╪═════╡\n",
      "│ 2025-02-23 09:00:00 ┆ BTCUSDT ┆ 0        ┆ 100 ┆ 10  │\n",
      "│ 2025-02-23 09:00:00 ┆ SOLUSDT ┆ 1        ┆ 102 ┆ 15  │\n",
      "│ 2025-02-23 09:00:10 ┆ SOLUSDT ┆ 2        ┆ 101 ┆ 12  │\n",
      "│ 2025-02-23 09:00:20 ┆ ETHUSDT ┆ 3        ┆ 103 ┆ 20  │\n",
      "│ 2025-02-23 09:00:40 ┆ BTCUSDT ┆ 4        ┆ 104 ┆ -18 │\n",
      "│ 2025-02-23 09:01:40 ┆ ETHUSDT ┆ 5        ┆ 103 ┆ 21  │\n",
      "│ 2025-02-23 09:02:30 ┆ ETHUSDT ┆ 6        ┆ 101 ┆ -15 │\n",
      "│ 2025-02-23 09:02:40 ┆ BTCUSDT ┆ 7        ┆ 100 ┆ 12  │\n",
      "│ 2025-02-23 09:03:30 ┆ SOLUSDT ┆ 8        ┆ 99  ┆ -10 │\n",
      "│ 2025-02-23 09:03:40 ┆ ETHUSDT ┆ 9        ┆ 98  ┆ 10  │\n",
      "└─────────────────────┴─────────┴──────────┴─────┴─────┘\n"
     ]
    },
    {
     "name": "stderr",
     "output_type": "stream",
     "text": [
      "/var/folders/m0/lt8lthdj53v7lryp_p277_wh0000gp/T/ipykernel_62281/4034771159.py:27: ChronoFormatWarning: Detected the pattern `.%f` in the chrono format string. This pattern should not be used to parse values after a decimal point. Use `%.f` instead. See the full specification: https://docs.rs/chrono/latest/chrono/format/strftime\n",
      "  pl.col(\"ts\").str.strptime(pl.Datetime, format=\"%Y-%m-%d %H:%M:%S.%f\")\n"
     ]
    }
   ],
   "source": [
    "prods = ['BTCUSDT', 'ETHUSDT', 'SOLUSDT']\n",
    "delta = \"30s\"\n",
    "data = {\n",
    "    \"ts\": [\n",
    "        \"2025-02-23 09:00:00\",\n",
    "        \"2025-02-23 09:00:00\",\n",
    "        \"2025-02-23 09:00:10\",\n",
    "        \"2025-02-23 09:00:20\",\n",
    "        \"2025-02-23 09:00:40\",\n",
    "        \"2025-02-23 09:01:40\",\n",
    "        \"2025-02-23 09:02:30\",\n",
    "        \"2025-02-23 09:02:40\",\n",
    "        \"2025-02-23 09:03:30\",\n",
    "        \"2025-02-23 09:03:40\"\n",
    "    ],\n",
    "    \"product\": [\n",
    "        \"BTCUSDT\", \"SOLUSDT\", \"SOLUSDT\", \"ETHUSDT\", \"BTCUSDT\",\n",
    "        \"ETHUSDT\", \"ETHUSDT\", \"BTCUSDT\", \"SOLUSDT\", \"ETHUSDT\"\n",
    "    ],\n",
    "    \"trade_id\": [0, 1, 2, 3, 4, 5, 6, 7, 8, 9],\n",
    "    \"prc\": [100, 102, 101, 103, 104, 103, 101, 100, 99, 98],\n",
    "    \"qty\": [10, 15, 12, 20, -18, 21, -15, 12, -10, 10]\n",
    "}\n",
    "\n",
    "df = pl.DataFrame(data)\n",
    "df = df.with_columns(\n",
    "    pl.col(\"ts\").str.strptime(pl.Datetime, format=\"%Y-%m-%d %H:%M:%S\")\n",
    ")\n",
    "\n",
    "print(df)"
   ]
  },
  {
   "cell_type": "code",
   "execution_count": 205,
   "metadata": {},
   "outputs": [],
   "source": [
    "from datetime import datetime\n",
    "import datetime as dt"
   ]
  },
  {
   "cell_type": "code",
   "execution_count": 215,
   "metadata": {},
   "outputs": [
    {
     "data": {
      "text/plain": [
       "True"
      ]
     },
     "execution_count": 215,
     "metadata": {},
     "output_type": "execute_result"
    }
   ],
   "source": [
    "isinstance(df[\"ts\"].dtype, pl.Datetime)"
   ]
  },
  {
   "cell_type": "code",
   "execution_count": 198,
   "metadata": {},
   "outputs": [
    {
     "name": "stdout",
     "output_type": "stream",
     "text": [
      "Input string not in correct format\n"
     ]
    },
    {
     "ename": "AttributeError",
     "evalue": "'str' object has no attribute 'tzinfo'",
     "output_type": "error",
     "traceback": [
      "\u001b[0;31m---------------------------------------------------------------------------\u001b[0m",
      "\u001b[0;31mAttributeError\u001b[0m                            Traceback (most recent call last)",
      "Cell \u001b[0;32mIn[198], line 1\u001b[0m\n\u001b[0;32m----> 1\u001b[0m \u001b[43mplot_trades\u001b[49m\u001b[43m(\u001b[49m\u001b[43mdf\u001b[49m\u001b[43m,\u001b[49m\u001b[43m \u001b[49m\u001b[43m[\u001b[49m\u001b[38;5;124;43m'\u001b[39;49m\u001b[38;5;124;43mBTCUSDT\u001b[39;49m\u001b[38;5;124;43m'\u001b[39;49m\u001b[43m,\u001b[49m\u001b[43m \u001b[49m\u001b[38;5;124;43m'\u001b[39;49m\u001b[38;5;124;43mETHUSDT\u001b[39;49m\u001b[38;5;124;43m'\u001b[39;49m\u001b[43m,\u001b[49m\u001b[43m \u001b[49m\u001b[38;5;124;43m'\u001b[39;49m\u001b[38;5;124;43mSOLUSDT\u001b[39;49m\u001b[38;5;124;43m'\u001b[39;49m\u001b[43m]\u001b[49m\u001b[43m,\u001b[49m\u001b[43m \u001b[49m\u001b[38;5;124;43m'\u001b[39;49m\u001b[38;5;124;43m2025-02-23 09:00:00\u001b[39;49m\u001b[38;5;124;43m'\u001b[39;49m\u001b[43m,\u001b[49m\u001b[43m \u001b[49m\u001b[38;5;241;43m10\u001b[39;49m\u001b[43m,\u001b[49m\u001b[43m \u001b[49m\u001b[38;5;124;43m'\u001b[39;49m\u001b[38;5;124;43m30s\u001b[39;49m\u001b[38;5;124;43m'\u001b[39;49m\u001b[43m)\u001b[49m\n",
      "File \u001b[0;32m~/DS/code/tradedecomp/src/tradedecomp/plots.py:15\u001b[0m, in \u001b[0;36mplot_trades\u001b[0;34m(df, products, start_time, nr_of_trades, delta)\u001b[0m\n\u001b[1;32m     10\u001b[0m \u001b[38;5;250m\u001b[39m\u001b[38;5;124;03m\"\"\"\u001b[39;00m\n\u001b[1;32m     11\u001b[0m \u001b[38;5;124;03mPlot the decomposition of the trades into components\u001b[39;00m\n\u001b[1;32m     12\u001b[0m \u001b[38;5;124;03m\"\"\"\u001b[39;00m\n\u001b[1;32m     14\u001b[0m \u001b[38;5;66;03m# Filter for the relevant trades\u001b[39;00m\n\u001b[0;32m---> 15\u001b[0m df \u001b[38;5;241m=\u001b[39m df\u001b[38;5;241m.\u001b[39mfilter(pl\u001b[38;5;241m.\u001b[39mcol(\u001b[38;5;124m\"\u001b[39m\u001b[38;5;124mts\u001b[39m\u001b[38;5;124m\"\u001b[39m) \u001b[38;5;241m>\u001b[39m\u001b[38;5;241m=\u001b[39m \u001b[43mnanoseconds\u001b[49m\u001b[43m(\u001b[49m\u001b[43mstart_time\u001b[49m\u001b[43m)\u001b[49m)\n\u001b[1;32m     16\u001b[0m df \u001b[38;5;241m=\u001b[39m df[:nr_of_trades]\n\u001b[1;32m     17\u001b[0m \u001b[38;5;28;01mif\u001b[39;00m \u001b[38;5;28misinstance\u001b[39m(delta, \u001b[38;5;28mstr\u001b[39m):\n",
      "File \u001b[0;32m~/DS/code/tradedecomp/src/tradedecomp/utils.py:26\u001b[0m, in \u001b[0;36mnanoseconds\u001b[0;34m(input)\u001b[0m\n\u001b[1;32m     24\u001b[0m         \u001b[38;5;28mprint\u001b[39m(\u001b[38;5;124m\"\u001b[39m\u001b[38;5;124mInput string not in correct format\u001b[39m\u001b[38;5;124m\"\u001b[39m)\n\u001b[1;32m     25\u001b[0m \u001b[38;5;66;03m# Deal with some timezone issues\u001b[39;00m\n\u001b[0;32m---> 26\u001b[0m used_tz \u001b[38;5;241m=\u001b[39m \u001b[38;5;28minput\u001b[39m\u001b[38;5;241m.\u001b[39mtzinfo \u001b[38;5;28;01mif\u001b[39;00m \u001b[38;5;28;43minput\u001b[39;49m\u001b[38;5;241;43m.\u001b[39;49m\u001b[43mtzinfo\u001b[49m \u001b[38;5;129;01mis\u001b[39;00m \u001b[38;5;129;01mnot\u001b[39;00m \u001b[38;5;28;01mNone\u001b[39;00m \u001b[38;5;28;01melse\u001b[39;00m pytz\u001b[38;5;241m.\u001b[39mutc\n\u001b[1;32m     27\u001b[0m \u001b[38;5;28minput\u001b[39m \u001b[38;5;241m=\u001b[39m used_tz\u001b[38;5;241m.\u001b[39mlocalize(\u001b[38;5;28minput\u001b[39m\u001b[38;5;241m.\u001b[39mreplace(tzinfo\u001b[38;5;241m=\u001b[39m\u001b[38;5;28;01mNone\u001b[39;00m))\n\u001b[1;32m     28\u001b[0m time_tuple \u001b[38;5;241m=\u001b[39m \u001b[38;5;28minput\u001b[39m\u001b[38;5;241m.\u001b[39mutctimetuple()\n",
      "\u001b[0;31mAttributeError\u001b[0m: 'str' object has no attribute 'tzinfo'"
     ]
    }
   ],
   "source": [
    "plot_trades(df, ['BTCUSDT', 'ETHUSDT', 'SOLUSDT'], '2025-02-23 09:00:00', 10, '30s')"
   ]
  },
  {
   "cell_type": "code",
   "execution_count": 189,
   "metadata": {},
   "outputs": [
    {
     "data": {
      "image/png": "[encoded data removed]",
      "text/plain": [
       "<Figure size 1000x400 with 1 Axes>"
      ]
     },
     "metadata": {},
     "output_type": "display_data"
    }
   ],
   "source": [
    "product_to_y = {'BTCUSDT': 0, 'ETHUSDT': 1, 'SOLUSDT': 2}\n",
    "product_colors = {'BTCUSDT': 'blue', 'ETHUSDT': 'green', 'SOLUSDT': 'red'}\n",
    "\n",
    "df  = df.with_columns(\n",
    "    pl.col(\"product\").replace(product_to_y).cast(pl.Float64).alias(\"y\")\n",
    ")\n",
    "\n",
    "fig, ax = plt.subplots(figsize=(10, 4))\n",
    "ax.scatter(df['ts'], df['y'], color='blue', zorder=3)\n",
    "\n",
    "for y in product_to_y.values():\n",
    "    ax.axhline(y=y, color='grey', linestyle='--', alpha=0.7, zorder=1)\n",
    "ax.set_yticks(list(product_to_y.values()))\n",
    "ax.set_yticklabels(list(product_to_y.keys()))\n",
    "ax.xaxis.set_major_formatter(mdates.DateFormatter('%H:%M:%S'))\n",
    "fig.autofmt_xdate()\n",
    "\n",
    "for row in df.iter_rows(named=True):\n",
    "    ax.axvspan(\n",
    "        row['ts'] - timedelta(seconds=30),   \n",
    "        row['ts'] + timedelta(seconds=30), \n",
    "        # Here we set the vertical extent so that the bar is drawn around the point. \n",
    "        # Since the y-axis is in data coordinates (0,1,2), we can use a small range, \n",
    "        # for example from y-0.1 to y+0.1.\n",
    "        ymin=(row['y'] / max(product_to_y.values()))-0.1,\n",
    "        ymax=(row['y'] / max(product_to_y.values()))+0.1,\n",
    "        #ymin=0,\n",
    "        #ymax=1,\n",
    "        color=product_colors[row['product']],\n",
    "        alpha=0.2,\n",
    "        zorder=2\n",
    "    )\n",
    "\n",
    "# Format the y-axis with product names instead of numbers.\n",
    "ax.set_yticks(list(product_to_y.values()))\n",
    "ax.set_yticklabels(list(product_to_y.keys()))\n",
    "\n",
    "# Format the x-axis for better date presentation.\n",
    "ax.xaxis.set_major_formatter(mdates.DateFormatter('%H:%M:%S'))\n",
    "fig.autofmt_xdate()\n",
    "\n",
    "ax.set_xlabel(\"Timestamp\")\n",
    "ax.set_ylabel(\"Product\")\n",
    "ax.set_title(\"Trades and their neighbourhoods\")\n",
    "\n",
    "plt.show()"
   ]
  },
  {
   "cell_type": "code",
   "execution_count": 216,
   "metadata": {},
   "outputs": [
    {
     "data": {
      "text/plain": [
       "datetime.datetime(2025, 2, 23, 9, 0)"
      ]
     },
     "execution_count": 216,
     "metadata": {},
     "output_type": "execute_result"
    }
   ],
   "source": [
    "df['ts'][0]"
   ]
  },
  {
   "cell_type": "code",
   "execution_count": 190,
   "metadata": {},
   "outputs": [],
   "source": [
    "def label_trades(df: pl.DataFrame, prods: list, delta: str, ts_col: str = \"ts\", mapping: dict = {0: \"iso\", 1: \"nis-c\", 2: \"nis-s\", 3: \"nis-b\"}):\n",
    "    \"\"\"Label trades based on co-trading relationships\n",
    "\n",
    "    Args:\n",
    "        df (pl.DataFrame): The dataframe containing the trades\n",
    "        prods (list): The list of products to label\n",
    "        delta (str): The time delta to use for the rolling window\n",
    "        mapping (dict): The mapping of condition codes to trade types\n",
    "    Returns:\n",
    "        pl.DataFrame: The dataframe with the labeled trades\n",
    "    \"\"\"\n",
    "    df = df.with_columns([(pl.col(\"product\") == prod).cast(pl.Int64).alias(f\"{prod}_flag\") for prod in prods])  \n",
    "\n",
    "    rolled_df = df.rolling(\n",
    "        index_column=\"ts\",\n",
    "        period=delta,\n",
    "        offset='-5m',\n",
    "        closed=\"both\"\n",
    "    ).agg([pl.col(f\"{prod}_flag\").sum().alias(f\"{prod}_count\") for prod in prods])\n",
    "\n",
    "    df = df.join(rolled_df, on='ts', how='left')\n",
    "\n",
    "    count_columns = [pl.col(f\"{prod}_count\") for prod in prods]\n",
    "    flag_columns = [pl.col(f\"{prod}_flag\")  for prod in prods]\n",
    "    adjusted_counts = [(count - flag).alias(f\"{prod}_count\") for count, flag, prod in zip(count_columns, flag_columns, prods)]\n",
    "    product_exprs = [count * flag for count, flag in zip(count_columns, flag_columns)]\n",
    "\n",
    "    df = df.with_columns(\n",
    "    adjusted_counts\n",
    "    ).with_columns(\n",
    "        pl.sum_horizontal(count_columns).alias(\"total_count\")\n",
    "    ).with_columns(\n",
    "        pl.sum_horizontal(product_exprs).alias(\"same_count\")\n",
    "    ).with_columns(\n",
    "        (pl.col(\"total_count\")-pl.col(\"same_count\")).alias(\"other_count\")\n",
    "    ).drop(count_columns + flag_columns + [\"total_count\"])\n",
    "\n",
    "    mapping = {str(i): v for i, v in mapping.items()}\n",
    "    df = df.with_columns(\n",
    "        (2 * (pl.col(\"same_count\") > 0).cast(pl.Int8) +\n",
    "        (pl.col(\"other_count\") > 0).cast(pl.Int8)).cast(pl.Utf8).alias(\"trade_code\")\n",
    "    ).with_columns(\n",
    "        pl.col(\"trade_code\").replace(mapping).alias(\"trade_type\")\n",
    "    ).drop([\"same_count\", \"other_count\", \"trade_code\"])\n",
    "\n",
    "    return df\n"
   ]
  },
  {
   "cell_type": "code",
   "execution_count": 191,
   "metadata": {},
   "outputs": [
    {
     "name": "stdout",
     "output_type": "stream",
     "text": [
      "shape: (12, 7)\n",
      "┌─────────────────────┬─────────┬──────────┬─────┬─────┬─────┬────────────┐\n",
      "│ ts                  ┆ product ┆ trade_id ┆ prc ┆ qty ┆ y   ┆ trade_type │\n",
      "│ ---                 ┆ ---     ┆ ---      ┆ --- ┆ --- ┆ --- ┆ ---        │\n",
      "│ datetime[μs]        ┆ str     ┆ i64      ┆ i64 ┆ i64 ┆ f64 ┆ str        │\n",
      "╞═════════════════════╪═════════╪══════════╪═════╪═════╪═════╪════════════╡\n",
      "│ 2025-02-23 09:00:00 ┆ BTCUSDT ┆ 0        ┆ 100 ┆ 10  ┆ 0.0 ┆ iso        │\n",
      "│ 2025-02-23 09:00:00 ┆ BTCUSDT ┆ 0        ┆ 100 ┆ 10  ┆ 0.0 ┆ iso        │\n",
      "│ 2025-02-23 09:00:00 ┆ SOLUSDT ┆ 1        ┆ 102 ┆ 15  ┆ 2.0 ┆ iso        │\n",
      "│ 2025-02-23 09:00:00 ┆ SOLUSDT ┆ 1        ┆ 102 ┆ 15  ┆ 2.0 ┆ iso        │\n",
      "│ 2025-02-23 09:00:10 ┆ SOLUSDT ┆ 2        ┆ 101 ┆ 12  ┆ 2.0 ┆ iso        │\n",
      "│ …                   ┆ …       ┆ …        ┆ …   ┆ …   ┆ …   ┆ …          │\n",
      "│ 2025-02-23 09:01:40 ┆ ETHUSDT ┆ 5        ┆ 103 ┆ 21  ┆ 1.0 ┆ iso        │\n",
      "│ 2025-02-23 09:02:30 ┆ ETHUSDT ┆ 6        ┆ 101 ┆ -15 ┆ 1.0 ┆ iso        │\n",
      "│ 2025-02-23 09:02:40 ┆ BTCUSDT ┆ 7        ┆ 100 ┆ 12  ┆ 0.0 ┆ iso        │\n",
      "│ 2025-02-23 09:03:30 ┆ SOLUSDT ┆ 8        ┆ 99  ┆ -10 ┆ 2.0 ┆ iso        │\n",
      "│ 2025-02-23 09:03:40 ┆ ETHUSDT ┆ 9        ┆ 98  ┆ 10  ┆ 1.0 ┆ iso        │\n",
      "└─────────────────────┴─────────┴──────────┴─────┴─────┴─────┴────────────┘\n"
     ]
    }
   ],
   "source": [
    "tdf = label_trades(df, prods, delta)\n",
    "print(tdf)"
   ]
  },
  {
   "cell_type": "code",
   "execution_count": 134,
   "metadata": {},
   "outputs": [
    {
     "name": "stdout",
     "output_type": "stream",
     "text": [
      "shape: (10, 8)\n",
      "┌─────────────────────┬─────────┬──────────┬─────┬─────┬────────────┬─────────────┬────────────────┐\n",
      "│ ts                  ┆ product ┆ trade_id ┆ prc ┆ qty ┆ same_count ┆ other_count ┆ condition_code │\n",
      "│ ---                 ┆ ---     ┆ ---      ┆ --- ┆ --- ┆ ---        ┆ ---         ┆ ---            │\n",
      "│ datetime[μs]        ┆ str     ┆ i64      ┆ i64 ┆ i64 ┆ i64        ┆ i64         ┆ i32            │\n",
      "╞═════════════════════╪═════════╪══════════╪═════╪═════╪════════════╪═════════════╪════════════════╡\n",
      "│ 2025-02-23 09:00:00 ┆ BTCUSDT ┆ 1        ┆ 100 ┆ 10  ┆ 3          ┆ 6           ┆ 3              │\n",
      "│ 2025-02-23 09:01:00 ┆ ETHUSDT ┆ 2        ┆ 102 ┆ 15  ┆ 2          ┆ 7           ┆ 3              │\n",
      "│ 2025-02-23 09:02:00 ┆ SOLUSDT ┆ 3        ┆ 101 ┆ 12  ┆ 2          ┆ 7           ┆ 3              │\n",
      "│ 2025-02-23 09:03:00 ┆ BTCUSDT ┆ 4        ┆ 103 ┆ 20  ┆ 3          ┆ 6           ┆ 3              │\n",
      "│ 2025-02-23 09:04:00 ┆ ETHUSDT ┆ 5        ┆ 104 ┆ 18  ┆ 2          ┆ 7           ┆ 3              │\n",
      "│ 2025-02-23 09:05:00 ┆ SOLUSDT ┆ 6        ┆ 105 ┆ 21  ┆ 2          ┆ 7           ┆ 3              │\n",
      "│ 2025-02-23 09:06:00 ┆ BTCUSDT ┆ 7        ┆ 106 ┆ 22  ┆ 2          ┆ 6           ┆ 3              │\n",
      "│ 2025-02-23 09:07:00 ┆ ETHUSDT ┆ 8        ┆ 107 ┆ 23  ┆ 1          ┆ 6           ┆ 3              │\n",
      "│ 2025-02-23 09:08:00 ┆ SOLUSDT ┆ 9        ┆ 108 ┆ 24  ┆ 1          ┆ 5           ┆ 3              │\n",
      "│ 2025-02-23 09:09:00 ┆ BTCUSDT ┆ 10       ┆ 109 ┆ 25  ┆ 1          ┆ 4           ┆ 3              │\n",
      "└─────────────────────┴─────────┴──────────┴─────┴─────┴────────────┴─────────────┴────────────────┘\n"
     ]
    }
   ],
   "source": [
    "df = df.with_columns(\n",
    "    pl.when((pl.col(\"same_count\") == 0) & (pl.col(\"other_count\") == 0))\n",
    "      .then(0)\n",
    "      .when((pl.col(\"same_count\") == 0) & (pl.col(\"other_count\") > 0))\n",
    "      .then(1)\n",
    "      .when((pl.col(\"same_count\") > 0) & (pl.col(\"other_count\") == 0))\n",
    "      .then(2)\n",
    "      .when((pl.col(\"same_count\") > 0) & (pl.col(\"other_count\") > 0))\n",
    "      .then(3)\n",
    "      .alias(\"condition_code\")\n",
    ")\n",
    "print(df)"
   ]
  },
  {
   "cell_type": "code",
   "execution_count": null,
   "metadata": {},
   "outputs": [],
   "source": []
  }
 ],
 "metadata": {
  "kernelspec": {
   "display_name": ".venv",
   "language": "python",
   "name": "python3"
  },
  "language_info": {
   "codemirror_mode": {
    "name": "ipython",
    "version": 3
   },
   "file_extension": ".py",
   "mimetype": "text/x-python",
   "name": "python",
   "nbconvert_exporter": "python",
   "pygments_lexer": "ipython3",
   "version": "3.12.8"
  }
 },
 "nbformat": 4,
 "nbformat_minor": 2
}
