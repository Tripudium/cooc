{
 "cells": [
  {
   "cell_type": "code",
   "execution_count": 1,
   "metadata": {},
   "outputs": [],
   "source": [
    "%load_ext autoreload\n",
    "%autoreload 2"
   ]
  },
  {
   "cell_type": "code",
   "execution_count": null,
   "metadata": {},
   "outputs": [],
   "source": [
    "import matplotlib.pyplot as plt"
   ]
  },
  {
   "cell_type": "code",
   "execution_count": 37,
   "metadata": {},
   "outputs": [],
   "source": [
    "from tradedecomp.hdb import get_dataset"
   ]
  },
  {
   "cell_type": "markdown",
   "metadata": {
    "vscode": {
     "languageId": "plaintext"
    }
   },
   "source": [
    "# <font color=\"grey\">Trade decomposition</font>"
   ]
  },
  {
   "cell_type": "markdown",
   "metadata": {},
   "source": [
    "### <font color=\"grey\">  Table of Contents</font>\n",
    "\n",
    "1. #### <a href='#chapter1'>Data</a>\n",
    "2. #### <a href='#chapter2'>Trade decomposition</a>"
   ]
  },
  {
   "cell_type": "markdown",
   "metadata": {},
   "source": [
    "###  <a id='chapter1'> <font color=\"grey\">1. Data </font></a>"
   ]
  },
  {
   "cell_type": "code",
   "execution_count": 31,
   "metadata": {},
   "outputs": [],
   "source": [
    "dl = get_dataset(\"trnk\")"
   ]
  },
  {
   "cell_type": "code",
   "execution_count": 32,
   "metadata": {},
   "outputs": [],
   "source": [
    "RCS = [f\"{coin}USDT\" for coin in [\"BTC\", \"ETH\", \"SOL\", \"DOGE\", \"LINK\"]]\n",
    "TYPE = ['book', 'trade']\n",
    "MONTHS = ['06', '07', '08']\n",
    "TIMES = ['240720.0001', '240810.2350']"
   ]
  },
  {
   "cell_type": "code",
   "execution_count": null,
   "metadata": {},
   "outputs": [
    {
     "data": {
      "text/html": [
       "<div><style>\n",
       ".dataframe > thead > tr,\n",
       ".dataframe > tbody > tr {\n",
       "  text-align: right;\n",
       "  white-space: pre-wrap;\n",
       "}\n",
       "</style>\n",
       "<small>shape: (5, 5)</small><table border=\"1\" class=\"dataframe\"><thead><tr><th>ts</th><th>prc__s0</th><th>prc__s1</th><th>vol__s0</th><th>vol__s1</th></tr><tr><td>u64</td><td>f64</td><td>f64</td><td>f64</td><td>f64</td></tr></thead><tbody><tr><td>1721433660046500000</td><td>66689.9</td><td>66690.0</td><td>7.331</td><td>10.59</td></tr><tr><td>1721433660058500000</td><td>66689.9</td><td>66690.0</td><td>7.331</td><td>10.531</td></tr><tr><td>1721433660063500000</td><td>66689.9</td><td>66690.0</td><td>7.329</td><td>10.531</td></tr><tr><td>1721433660066500000</td><td>66689.9</td><td>66690.0</td><td>6.079</td><td>10.531</td></tr><tr><td>1721433660069500000</td><td>66689.9</td><td>66690.0</td><td>6.079</td><td>10.513</td></tr></tbody></table></div>"
      ],
      "text/plain": [
       "shape: (5, 5)\n",
       "┌─────────────────────┬─────────┬─────────┬─────────┬─────────┐\n",
       "│ ts                  ┆ prc__s0 ┆ prc__s1 ┆ vol__s0 ┆ vol__s1 │\n",
       "│ ---                 ┆ ---     ┆ ---     ┆ ---     ┆ ---     │\n",
       "│ u64                 ┆ f64     ┆ f64     ┆ f64     ┆ f64     │\n",
       "╞═════════════════════╪═════════╪═════════╪═════════╪═════════╡\n",
       "│ 1721433660046500000 ┆ 66689.9 ┆ 66690.0 ┆ 7.331   ┆ 10.59   │\n",
       "│ 1721433660058500000 ┆ 66689.9 ┆ 66690.0 ┆ 7.331   ┆ 10.531  │\n",
       "│ 1721433660063500000 ┆ 66689.9 ┆ 66690.0 ┆ 7.329   ┆ 10.531  │\n",
       "│ 1721433660066500000 ┆ 66689.9 ┆ 66690.0 ┆ 6.079   ┆ 10.531  │\n",
       "│ 1721433660069500000 ┆ 66689.9 ┆ 66690.0 ┆ 6.079   ┆ 10.513  │\n",
       "└─────────────────────┴─────────┴─────────┴─────────┴─────────┘"
      ]
     },
     "execution_count": 33,
     "metadata": {},
     "output_type": "execute_result"
    }
   ],
   "source": [
    "df = dl.load_book(RCS[0], TIMES)\n",
    "# Add human readable timestamp\n",
    "df = df._dt.add_datetime('ts')\n",
    "df.head()"
   ]
  },
  {
   "cell_type": "code",
   "execution_count": 36,
   "metadata": {},
   "outputs": [
    {
     "data": {
      "text/html": [
       "<div><style>\n",
       ".dataframe > thead > tr,\n",
       ".dataframe > tbody > tr {\n",
       "  text-align: right;\n",
       "  white-space: pre-wrap;\n",
       "}\n",
       "</style>\n",
       "<small>shape: (5, 5)</small><table border=\"1\" class=\"dataframe\"><thead><tr><th>ts</th><th>trade_id</th><th>prc</th><th>qty</th><th>dts</th></tr><tr><td>u64</td><td>u64</td><td>f64</td><td>f64</td><td>datetime[ns]</td></tr></thead><tbody><tr><td>1721433660058500000</td><td>5185491785</td><td>66690.0</td><td>0.059</td><td>2024-07-20 00:01:00.058500</td></tr><tr><td>1721433660069500000</td><td>5185491786</td><td>66690.0</td><td>0.018</td><td>2024-07-20 00:01:00.069500</td></tr><tr><td>1721433660157500000</td><td>5185491787</td><td>66690.0</td><td>0.003</td><td>2024-07-20 00:01:00.157500</td></tr><tr><td>1721433660484500000</td><td>5185491788</td><td>66690.0</td><td>0.015</td><td>2024-07-20 00:01:00.484500</td></tr><tr><td>1721433660603500000</td><td>5185491789</td><td>66690.0</td><td>0.01</td><td>2024-07-20 00:01:00.603500</td></tr></tbody></table></div>"
      ],
      "text/plain": [
       "shape: (5, 5)\n",
       "┌─────────────────────┬────────────┬─────────┬───────┬────────────────────────────┐\n",
       "│ ts                  ┆ trade_id   ┆ prc     ┆ qty   ┆ dts                        │\n",
       "│ ---                 ┆ ---        ┆ ---     ┆ ---   ┆ ---                        │\n",
       "│ u64                 ┆ u64        ┆ f64     ┆ f64   ┆ datetime[ns]               │\n",
       "╞═════════════════════╪════════════╪═════════╪═══════╪════════════════════════════╡\n",
       "│ 1721433660058500000 ┆ 5185491785 ┆ 66690.0 ┆ 0.059 ┆ 2024-07-20 00:01:00.058500 │\n",
       "│ 1721433660069500000 ┆ 5185491786 ┆ 66690.0 ┆ 0.018 ┆ 2024-07-20 00:01:00.069500 │\n",
       "│ 1721433660157500000 ┆ 5185491787 ┆ 66690.0 ┆ 0.003 ┆ 2024-07-20 00:01:00.157500 │\n",
       "│ 1721433660484500000 ┆ 5185491788 ┆ 66690.0 ┆ 0.015 ┆ 2024-07-20 00:01:00.484500 │\n",
       "│ 1721433660603500000 ┆ 5185491789 ┆ 66690.0 ┆ 0.01  ┆ 2024-07-20 00:01:00.603500 │\n",
       "└─────────────────────┴────────────┴─────────┴───────┴────────────────────────────┘"
      ]
     },
     "execution_count": 36,
     "metadata": {},
     "output_type": "execute_result"
    }
   ],
   "source": [
    "tdf = dl.load_trades(RCS[0], TIMES)\n",
    "# By default, the timestamp column is named 'ts'\n",
    "tdf = tdf._dt.add_datetime()\n",
    "tdf.head()\n"
   ]
  },
  {
   "cell_type": "code",
   "execution_count": null,
   "metadata": {},
   "outputs": [],
   "source": []
  }
 ],
 "metadata": {
  "kernelspec": {
   "display_name": ".venv",
   "language": "python",
   "name": "python3"
  },
  "language_info": {
   "codemirror_mode": {
    "name": "ipython",
    "version": 3
   },
   "file_extension": ".py",
   "mimetype": "text/x-python",
   "name": "python",
   "nbconvert_exporter": "python",
   "pygments_lexer": "ipython3",
   "version": "3.12.8"
  }
 },
 "nbformat": 4,
 "nbformat_minor": 2
}
