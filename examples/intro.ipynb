{
 "cells": [
  {
   "cell_type": "code",
   "execution_count": 1,
   "metadata": {},
   "outputs": [],
   "source": [
    "%load_ext autoreload\n",
    "%autoreload 2"
   ]
  },
  {
   "cell_type": "code",
   "execution_count": 2,
   "metadata": {},
   "outputs": [],
   "source": [
    "import matplotlib.pyplot as plt\n",
    "import polars as pl"
   ]
  },
  {
   "cell_type": "code",
   "execution_count": 3,
   "metadata": {},
   "outputs": [],
   "source": [
    "from cooc.hdb import get_dataset\n",
    "from cooc.plots import plot_trades\n",
    "from cooc.features import coi"
   ]
  },
  {
   "cell_type": "markdown",
   "metadata": {
    "vscode": {
     "languageId": "plaintext"
    }
   },
   "source": [
    "# <font color=\"grey\">Trade decomposition</font>"
   ]
  },
  {
   "cell_type": "markdown",
   "metadata": {},
   "source": [
    "### <font color=\"grey\">  Table of Contents</font>\n",
    "\n",
    "1. #### <a href='#chapter1'>Data</a>\n",
    "2. #### <a href='#chapter2'>Trade decomposition</a>"
   ]
  },
  {
   "cell_type": "markdown",
   "metadata": {},
   "source": [
    "###  <a id='chapter1'> <font color=\"grey\">1. Data </font></a>"
   ]
  },
  {
   "cell_type": "markdown",
   "metadata": {},
   "source": [
    "Data is currently available for 5 products, namely perpetual futures contracts for the following pairs: BTC-USDT, ETH-USDT, SOL-USDT, DOGE-USDT and LINK-USDT. The details on these products are not important for the time being, they just represent time series. Data is available for trades and quotes (level 1 limit order book) for a period from June to end of August. For each month, the data begins at 00:01 of the first day and ends at 23:50.\n",
    "\n",
    "The timestamps are given in nanosecond resolution as Unix timestamps, but the granularity of the data is not that fine. A simple dataloader and some helper function to convert Python datetime objects or strings of the form '240802.1450' into timestamps are provided. The 'book' data contains best bid and ask prices with corresponding volumes. The 'trade' data contains trades, with a signed quantity representing direction. There is also an associated trade id in order to identify individual trades.\n",
    "\n",
    "The book data is mainly to determine the price movements and for potential backtests. In the original dataset there are more timestamps (depending on when the data was sent or received) but I don't think this matters at the moment. One could try to align what happens in the trades with what happens in the book dataset.\n",
    "\n",
    "We make heavy use of [polars](https://pola.rs/), for the simple reason of performance. If one is not used to it, the learning curve can be steep but it will make things quicker in the long run. We also work with polars extensions to easily add features to the data."
   ]
  },
  {
   "cell_type": "code",
   "execution_count": 4,
   "metadata": {},
   "outputs": [],
   "source": [
    "dl = get_dataset(\"tardis\")"
   ]
  },
  {
   "cell_type": "code",
   "execution_count": 8,
   "metadata": {},
   "outputs": [],
   "source": [
    "RCS = [f\"{coin}USDT\" for coin in [\"BTC\", \"ETH\", \"SOL\", \"DOGE\", \"LINK\"]]\n",
    "TYPE = ['book', 'trade']\n",
    "MONTHS = ['06', '07', '08']\n",
    "TIMES = ['240720.000100', '240725.235000']"
   ]
  },
  {
   "cell_type": "code",
   "execution_count": 6,
   "metadata": {},
   "outputs": [],
   "source": [
    "df = dl.load_book(RCS[0:2], TIMES, lazy=True)\n",
    "# Add human readable timestamp and mid prices\n",
    "df = df._dt.add_datetime('ts')._feat.add_mid(products=RCS[0:2])"
   ]
  },
  {
   "cell_type": "code",
   "execution_count": null,
   "metadata": {},
   "outputs": [],
   "source": [
    "# This takes some time, not because of the loading but because of the aggregation\n",
    "df = df.collect()\n",
    "df.head()"
   ]
  },
  {
   "cell_type": "code",
   "execution_count": null,
   "metadata": {},
   "outputs": [],
   "source": [
    "plt.plot(df['dts'], df['mid_ETHUSDT'])\n",
    "plt.xlabel('Time')\n",
    "plt.ylabel('Mid price')\n",
    "plt.title('Mid price over time')\n",
    "plt.show()"
   ]
  },
  {
   "cell_type": "code",
   "execution_count": 9,
   "metadata": {},
   "outputs": [],
   "source": [
    "tdf = dl.load_trades(RCS[0:2], TIMES, lazy=True)\n",
    "# By default, the timestamp column is named 'ts'\n",
    "tdf = tdf._trade.agg_trades()._trade.add_side()._dt.add_datetime()"
   ]
  },
  {
   "cell_type": "code",
   "execution_count": null,
   "metadata": {},
   "outputs": [],
   "source": [
    "# Just to check that it works\n",
    "tdf = tdf.collect()\n",
    "tdf.head()"
   ]
  },
  {
   "cell_type": "markdown",
   "metadata": {},
   "source": [
    "###  <a id='chapter2'> <font color=\"grey\">2. Trade decomposition </font></a>"
   ]
  },
  {
   "cell_type": "code",
   "execution_count": null,
   "metadata": {},
   "outputs": [],
   "source": [
    "# Create a simple dataframe to test the trade classification\n",
    "prods = ['BTCUSDT', 'ETHUSDT', 'SOLUSDT']\n",
    "delta = \"30s\"\n",
    "data = {\n",
    "    \"ts\": [\n",
    "        \"2025-02-23 09:00:00\",\n",
    "        \"2025-02-23 09:00:00\",\n",
    "        \"2025-02-23 09:00:10\",\n",
    "        \"2025-02-23 09:00:20\",\n",
    "        \"2025-02-23 09:00:40\",\n",
    "        \"2025-02-23 09:01:40\",\n",
    "        \"2025-02-23 09:02:30\",\n",
    "        \"2025-02-23 09:02:40\",\n",
    "        \"2025-02-23 09:03:30\",\n",
    "        \"2025-02-23 09:03:40\"\n",
    "    ],\n",
    "    \"product\": [\n",
    "        \"BTCUSDT\", \"SOLUSDT\", \"SOLUSDT\", \"ETHUSDT\", \"BTCUSDT\",\n",
    "        \"ETHUSDT\", \"ETHUSDT\", \"BTCUSDT\", \"SOLUSDT\", \"SOLUSDT\"\n",
    "    ],\n",
    "    \"trade_id\": [0, 1, 2, 3, 4, 5, 6, 7, 8, 9],\n",
    "    \"prc\": [100, 102, 101, 103, 104, 103, 101, 100, 99, 98],\n",
    "    \"qty\": [10, 15, 12, 20, -18, 21, -15, 12, -10, 10]\n",
    "}\n",
    "\n",
    "df = pl.DataFrame(data)\n",
    "df = df.with_columns(\n",
    "    pl.col(\"ts\").str.strptime(pl.Datetime, format=\"%Y-%m-%d %H:%M:%S\")\n",
    ")\n",
    "\n",
    "print(df)"
   ]
  },
  {
   "cell_type": "code",
   "execution_count": null,
   "metadata": {},
   "outputs": [],
   "source": [
    "tdf = df._trade.classify_trades(prods, \"ts\", \"30s\")\n",
    "tdf"
   ]
  },
  {
   "cell_type": "code",
   "execution_count": null,
   "metadata": {},
   "outputs": [],
   "source": [
    "plot_trades(tdf, ['BTCUSDT', 'ETHUSDT', 'SOLUSDT'], 'ts', '250223.090000', 10, '30s')"
   ]
  },
  {
   "cell_type": "code",
   "execution_count": null,
   "metadata": {},
   "outputs": [],
   "source": [
    "cdf = coi(tdf, \"ts\", \"60s\", \"nis-c\")\n",
    "print(cdf)"
   ]
  },
  {
   "cell_type": "code",
   "execution_count": 14,
   "metadata": {},
   "outputs": [],
   "source": [
    "# Now for some real data\n",
    "df = dl.load_trades(RCS, ['240707.0800', '240707.2000'])._dt.add_datetime('ts')"
   ]
  },
  {
   "cell_type": "code",
   "execution_count": null,
   "metadata": {},
   "outputs": [],
   "source": [
    "# Aggregate trades by timestamp and price and add human readable timestamp\n",
    "tdf = df._trade.agg_trades()._dt.add_datetime('ts')\n",
    "tdf.head()"
   ]
  },
  {
   "cell_type": "code",
   "execution_count": null,
   "metadata": {},
   "outputs": [],
   "source": [
    "tdf = tdf._trade.classify_trades(RCS, \"dts\", \"5ms\")\n",
    "tdf.head()"
   ]
  },
  {
   "cell_type": "code",
   "execution_count": null,
   "metadata": {},
   "outputs": [],
   "source": []
  }
 ],
 "metadata": {
  "kernelspec": {
   "display_name": ".venv",
   "language": "python",
   "name": "python3"
  },
  "language_info": {
   "codemirror_mode": {
    "name": "ipython",
    "version": 3
   },
   "file_extension": ".py",
   "mimetype": "text/x-python",
   "name": "python",
   "nbconvert_exporter": "python",
   "pygments_lexer": "ipython3",
   "version": "3.12.8"
  }
 },
 "nbformat": 4,
 "nbformat_minor": 2
}
